{
 "cells": [
  {
   "cell_type": "markdown",
   "id": "1842aec1",
   "metadata": {},
   "source": [
    " Outlines\n",
    " 1. Import libraries\n",
    " 2. Import Data\n",
    " 3. Data Cleaning and preparation\n",
    " 4. EDA\n",
    " 5. Feature Engineering \n",
    " 6. Train test split\n",
    " 7. Model Build and Evaluation"
   ]
  },
  {
   "cell_type": "code",
   "execution_count": 1,
   "id": "549fe4b0",
   "metadata": {},
   "outputs": [],
   "source": [
    "#import libraries\n",
    "import pandas as pd\n",
    "import numpy as np \n",
    "import matplotlib.pyplot as plt\n",
    "import seaborn as sns\n",
    "sns.set()\n",
    "import warnings \n",
    "warnings.filterwarnings('ignore')\n",
    "from sklearn.linear_model import LinearRegression\n",
    "from sklearn.model_selection import train_test_split"
   ]
  },
  {
   "cell_type": "code",
   "execution_count": 2,
   "id": "645c61cc",
   "metadata": {},
   "outputs": [
    {
     "data": {
      "text/html": [
       "<div>\n",
       "<style scoped>\n",
       "    .dataframe tbody tr th:only-of-type {\n",
       "        vertical-align: middle;\n",
       "    }\n",
       "\n",
       "    .dataframe tbody tr th {\n",
       "        vertical-align: top;\n",
       "    }\n",
       "\n",
       "    .dataframe thead th {\n",
       "        text-align: right;\n",
       "    }\n",
       "</style>\n",
       "<table border=\"1\" class=\"dataframe\">\n",
       "  <thead>\n",
       "    <tr style=\"text-align: right;\">\n",
       "      <th></th>\n",
       "      <th>Name</th>\n",
       "      <th>JobTitle</th>\n",
       "      <th>AgencyID</th>\n",
       "      <th>Agency</th>\n",
       "      <th>HireDate</th>\n",
       "      <th>AnnualSalary</th>\n",
       "      <th>GrossPay</th>\n",
       "    </tr>\n",
       "  </thead>\n",
       "  <tbody>\n",
       "    <tr>\n",
       "      <th>0</th>\n",
       "      <td>Aaron,Keontae E</td>\n",
       "      <td>AIDE BLUE CHIP</td>\n",
       "      <td>W02200</td>\n",
       "      <td>Youth Summer</td>\n",
       "      <td>06/10/2013</td>\n",
       "      <td>$11310.00</td>\n",
       "      <td>$873.63</td>\n",
       "    </tr>\n",
       "    <tr>\n",
       "      <th>1</th>\n",
       "      <td>Aaron,Patricia G</td>\n",
       "      <td>Facilities/Office Services II</td>\n",
       "      <td>A03031</td>\n",
       "      <td>OED-Employment Dev</td>\n",
       "      <td>10/24/1979</td>\n",
       "      <td>$53428.00</td>\n",
       "      <td>$52868.38</td>\n",
       "    </tr>\n",
       "    <tr>\n",
       "      <th>2</th>\n",
       "      <td>Aaron,Petra L</td>\n",
       "      <td>ASSISTANT STATE'S ATTORNEY</td>\n",
       "      <td>A29005</td>\n",
       "      <td>States Attorneys Office</td>\n",
       "      <td>09/25/2006</td>\n",
       "      <td>$68300.00</td>\n",
       "      <td>$67439.19</td>\n",
       "    </tr>\n",
       "    <tr>\n",
       "      <th>3</th>\n",
       "      <td>Abaineh,Yohannes T</td>\n",
       "      <td>EPIDEMIOLOGIST</td>\n",
       "      <td>A65026</td>\n",
       "      <td>HLTH-Health Department</td>\n",
       "      <td>07/23/2009</td>\n",
       "      <td>$62000.00</td>\n",
       "      <td>$58654.74</td>\n",
       "    </tr>\n",
       "    <tr>\n",
       "      <th>4</th>\n",
       "      <td>Abbene,Anthony M</td>\n",
       "      <td>POLICE OFFICER TRAINEE</td>\n",
       "      <td>A99416</td>\n",
       "      <td>Police Department</td>\n",
       "      <td>07/24/2013</td>\n",
       "      <td>$43999.00</td>\n",
       "      <td>$39686.95</td>\n",
       "    </tr>\n",
       "    <tr>\n",
       "      <th>5</th>\n",
       "      <td>Abbey,Emmanuel</td>\n",
       "      <td>CONTRACT SERV SPEC II</td>\n",
       "      <td>A40001</td>\n",
       "      <td>M-R Info Technology</td>\n",
       "      <td>05/01/2013</td>\n",
       "      <td>$52000.00</td>\n",
       "      <td>$47019.75</td>\n",
       "    </tr>\n",
       "    <tr>\n",
       "      <th>6</th>\n",
       "      <td>Abdal-Rahim,Naim A</td>\n",
       "      <td>EMT Firefighter Suppression</td>\n",
       "      <td>A64120</td>\n",
       "      <td>Fire Department</td>\n",
       "      <td>03/30/2011</td>\n",
       "      <td>$62175.00</td>\n",
       "      <td>$61451.50</td>\n",
       "    </tr>\n",
       "    <tr>\n",
       "      <th>7</th>\n",
       "      <td>Abdi,Ezekiel W</td>\n",
       "      <td>POLICE SERGEANT</td>\n",
       "      <td>A99127</td>\n",
       "      <td>Police Department</td>\n",
       "      <td>06/14/2007</td>\n",
       "      <td>$70918.00</td>\n",
       "      <td>$87900.27</td>\n",
       "    </tr>\n",
       "    <tr>\n",
       "      <th>8</th>\n",
       "      <td>Abdul Adl,Attrice A</td>\n",
       "      <td>RADIO DISPATCHER SHERIFF</td>\n",
       "      <td>A38410</td>\n",
       "      <td>Sheriff's Office</td>\n",
       "      <td>09/02/1999</td>\n",
       "      <td>$42438.00</td>\n",
       "      <td>$53667.53</td>\n",
       "    </tr>\n",
       "    <tr>\n",
       "      <th>9</th>\n",
       "      <td>Abdul Aziz,Hajr E</td>\n",
       "      <td>AIDE BLUE CHIP</td>\n",
       "      <td>W02097</td>\n",
       "      <td>Youth Summer</td>\n",
       "      <td>06/18/2014</td>\n",
       "      <td>$11310.00</td>\n",
       "      <td>NaN</td>\n",
       "    </tr>\n",
       "  </tbody>\n",
       "</table>\n",
       "</div>"
      ],
      "text/plain": [
       "                  Name                       JobTitle AgencyID  \\\n",
       "0      Aaron,Keontae E                 AIDE BLUE CHIP   W02200   \n",
       "1     Aaron,Patricia G  Facilities/Office Services II   A03031   \n",
       "2        Aaron,Petra L     ASSISTANT STATE'S ATTORNEY   A29005   \n",
       "3   Abaineh,Yohannes T                 EPIDEMIOLOGIST   A65026   \n",
       "4     Abbene,Anthony M         POLICE OFFICER TRAINEE   A99416   \n",
       "5       Abbey,Emmanuel          CONTRACT SERV SPEC II   A40001   \n",
       "6   Abdal-Rahim,Naim A    EMT Firefighter Suppression   A64120   \n",
       "7       Abdi,Ezekiel W                POLICE SERGEANT   A99127   \n",
       "8  Abdul Adl,Attrice A       RADIO DISPATCHER SHERIFF   A38410   \n",
       "9    Abdul Aziz,Hajr E                 AIDE BLUE CHIP   W02097   \n",
       "\n",
       "                     Agency    HireDate AnnualSalary   GrossPay  \n",
       "0            Youth Summer    06/10/2013    $11310.00    $873.63  \n",
       "1       OED-Employment Dev   10/24/1979    $53428.00  $52868.38  \n",
       "2  States Attorneys Office   09/25/2006    $68300.00  $67439.19  \n",
       "3   HLTH-Health Department   07/23/2009    $62000.00  $58654.74  \n",
       "4        Police Department   07/24/2013    $43999.00  $39686.95  \n",
       "5      M-R Info Technology   05/01/2013    $52000.00  $47019.75  \n",
       "6          Fire Department   03/30/2011    $62175.00  $61451.50  \n",
       "7        Police Department   06/14/2007    $70918.00  $87900.27  \n",
       "8         Sheriff's Office   09/02/1999    $42438.00  $53667.53  \n",
       "9            Youth Summer    06/18/2014    $11310.00        NaN  "
      ]
     },
     "execution_count": 2,
     "metadata": {},
     "output_type": "execute_result"
    }
   ],
   "source": [
    "#import data\n",
    "salary = pd.read_csv(r'C:\\Users\\aryan\\Desktop\\DataSets-master\\train_salary.csv')\n",
    "salary.head(10)"
   ]
  },
  {
   "cell_type": "code",
   "execution_count": 3,
   "id": "71d5a8a1",
   "metadata": {},
   "outputs": [
    {
     "name": "stdout",
     "output_type": "stream",
     "text": [
      "<class 'pandas.core.frame.DataFrame'>\n",
      "RangeIndex: 18981 entries, 0 to 18980\n",
      "Data columns (total 7 columns):\n",
      " #   Column        Non-Null Count  Dtype \n",
      "---  ------        --------------  ----- \n",
      " 0    Name         18981 non-null  object\n",
      " 1   JobTitle      18981 non-null  object\n",
      " 2   AgencyID      18981 non-null  object\n",
      " 3   Agency        18981 non-null  object\n",
      " 4   HireDate      18911 non-null  object\n",
      " 5   AnnualSalary  18981 non-null  object\n",
      " 6   GrossPay      15758 non-null  object\n",
      "dtypes: object(7)\n",
      "memory usage: 1.0+ MB\n"
     ]
    }
   ],
   "source": [
    "#start of data cleaning\n",
    "salary.info()"
   ]
  },
  {
   "cell_type": "code",
   "execution_count": 4,
   "id": "3ffc8625",
   "metadata": {},
   "outputs": [],
   "source": [
    "data = salary.copy()"
   ]
  },
  {
   "cell_type": "code",
   "execution_count": 5,
   "id": "95245daa",
   "metadata": {},
   "outputs": [
    {
     "data": {
      "text/plain": [
       "Index([' Name', 'JobTitle', 'AgencyID', 'Agency', 'HireDate', 'AnnualSalary',\n",
       "       'GrossPay'],\n",
       "      dtype='object')"
      ]
     },
     "execution_count": 5,
     "metadata": {},
     "output_type": "execute_result"
    }
   ],
   "source": [
    "data.columns"
   ]
  },
  {
   "cell_type": "code",
   "execution_count": 6,
   "id": "851306d0",
   "metadata": {},
   "outputs": [],
   "source": [
    "data.columns = data.columns.str.strip()"
   ]
  },
  {
   "cell_type": "code",
   "execution_count": 7,
   "id": "a079e6a6",
   "metadata": {
    "scrolled": true
   },
   "outputs": [
    {
     "data": {
      "text/plain": [
       "Index(['Name', 'JobTitle', 'AgencyID', 'Agency', 'HireDate', 'AnnualSalary',\n",
       "       'GrossPay'],\n",
       "      dtype='object')"
      ]
     },
     "execution_count": 7,
     "metadata": {},
     "output_type": "execute_result"
    }
   ],
   "source": [
    "data.columns"
   ]
  },
  {
   "cell_type": "code",
   "execution_count": 8,
   "id": "58fc0763",
   "metadata": {},
   "outputs": [
    {
     "data": {
      "text/html": [
       "<div>\n",
       "<style scoped>\n",
       "    .dataframe tbody tr th:only-of-type {\n",
       "        vertical-align: middle;\n",
       "    }\n",
       "\n",
       "    .dataframe tbody tr th {\n",
       "        vertical-align: top;\n",
       "    }\n",
       "\n",
       "    .dataframe thead th {\n",
       "        text-align: right;\n",
       "    }\n",
       "</style>\n",
       "<table border=\"1\" class=\"dataframe\">\n",
       "  <thead>\n",
       "    <tr style=\"text-align: right;\">\n",
       "      <th></th>\n",
       "      <th>Name</th>\n",
       "      <th>JobTitle</th>\n",
       "      <th>AgencyID</th>\n",
       "      <th>Agency</th>\n",
       "      <th>HireDate</th>\n",
       "      <th>AnnualSalary</th>\n",
       "      <th>GrossPay</th>\n",
       "    </tr>\n",
       "  </thead>\n",
       "  <tbody>\n",
       "    <tr>\n",
       "      <th>0</th>\n",
       "      <td>Aaron,Keontae E</td>\n",
       "      <td>AIDE BLUE CHIP</td>\n",
       "      <td>W02200</td>\n",
       "      <td>Youth Summer</td>\n",
       "      <td>06/10/2013</td>\n",
       "      <td>11310.0</td>\n",
       "      <td>873.63</td>\n",
       "    </tr>\n",
       "    <tr>\n",
       "      <th>1</th>\n",
       "      <td>Aaron,Patricia G</td>\n",
       "      <td>Facilities/Office Services II</td>\n",
       "      <td>A03031</td>\n",
       "      <td>OED-Employment Dev</td>\n",
       "      <td>10/24/1979</td>\n",
       "      <td>53428.0</td>\n",
       "      <td>52868.38</td>\n",
       "    </tr>\n",
       "    <tr>\n",
       "      <th>2</th>\n",
       "      <td>Aaron,Petra L</td>\n",
       "      <td>ASSISTANT STATE'S ATTORNEY</td>\n",
       "      <td>A29005</td>\n",
       "      <td>States Attorneys Office</td>\n",
       "      <td>09/25/2006</td>\n",
       "      <td>68300.0</td>\n",
       "      <td>67439.19</td>\n",
       "    </tr>\n",
       "    <tr>\n",
       "      <th>3</th>\n",
       "      <td>Abaineh,Yohannes T</td>\n",
       "      <td>EPIDEMIOLOGIST</td>\n",
       "      <td>A65026</td>\n",
       "      <td>HLTH-Health Department</td>\n",
       "      <td>07/23/2009</td>\n",
       "      <td>62000.0</td>\n",
       "      <td>58654.74</td>\n",
       "    </tr>\n",
       "    <tr>\n",
       "      <th>4</th>\n",
       "      <td>Abbene,Anthony M</td>\n",
       "      <td>POLICE OFFICER TRAINEE</td>\n",
       "      <td>A99416</td>\n",
       "      <td>Police Department</td>\n",
       "      <td>07/24/2013</td>\n",
       "      <td>43999.0</td>\n",
       "      <td>39686.95</td>\n",
       "    </tr>\n",
       "    <tr>\n",
       "      <th>5</th>\n",
       "      <td>Abbey,Emmanuel</td>\n",
       "      <td>CONTRACT SERV SPEC II</td>\n",
       "      <td>A40001</td>\n",
       "      <td>M-R Info Technology</td>\n",
       "      <td>05/01/2013</td>\n",
       "      <td>52000.0</td>\n",
       "      <td>47019.75</td>\n",
       "    </tr>\n",
       "    <tr>\n",
       "      <th>6</th>\n",
       "      <td>Abdal-Rahim,Naim A</td>\n",
       "      <td>EMT Firefighter Suppression</td>\n",
       "      <td>A64120</td>\n",
       "      <td>Fire Department</td>\n",
       "      <td>03/30/2011</td>\n",
       "      <td>62175.0</td>\n",
       "      <td>61451.50</td>\n",
       "    </tr>\n",
       "    <tr>\n",
       "      <th>7</th>\n",
       "      <td>Abdi,Ezekiel W</td>\n",
       "      <td>POLICE SERGEANT</td>\n",
       "      <td>A99127</td>\n",
       "      <td>Police Department</td>\n",
       "      <td>06/14/2007</td>\n",
       "      <td>70918.0</td>\n",
       "      <td>87900.27</td>\n",
       "    </tr>\n",
       "    <tr>\n",
       "      <th>8</th>\n",
       "      <td>Abdul Adl,Attrice A</td>\n",
       "      <td>RADIO DISPATCHER SHERIFF</td>\n",
       "      <td>A38410</td>\n",
       "      <td>Sheriff's Office</td>\n",
       "      <td>09/02/1999</td>\n",
       "      <td>42438.0</td>\n",
       "      <td>53667.53</td>\n",
       "    </tr>\n",
       "    <tr>\n",
       "      <th>9</th>\n",
       "      <td>Abdul Aziz,Hajr E</td>\n",
       "      <td>AIDE BLUE CHIP</td>\n",
       "      <td>W02097</td>\n",
       "      <td>Youth Summer</td>\n",
       "      <td>06/18/2014</td>\n",
       "      <td>11310.0</td>\n",
       "      <td>NaN</td>\n",
       "    </tr>\n",
       "  </tbody>\n",
       "</table>\n",
       "</div>"
      ],
      "text/plain": [
       "                  Name                       JobTitle AgencyID  \\\n",
       "0      Aaron,Keontae E                 AIDE BLUE CHIP   W02200   \n",
       "1     Aaron,Patricia G  Facilities/Office Services II   A03031   \n",
       "2        Aaron,Petra L     ASSISTANT STATE'S ATTORNEY   A29005   \n",
       "3   Abaineh,Yohannes T                 EPIDEMIOLOGIST   A65026   \n",
       "4     Abbene,Anthony M         POLICE OFFICER TRAINEE   A99416   \n",
       "5       Abbey,Emmanuel          CONTRACT SERV SPEC II   A40001   \n",
       "6   Abdal-Rahim,Naim A    EMT Firefighter Suppression   A64120   \n",
       "7       Abdi,Ezekiel W                POLICE SERGEANT   A99127   \n",
       "8  Abdul Adl,Attrice A       RADIO DISPATCHER SHERIFF   A38410   \n",
       "9    Abdul Aziz,Hajr E                 AIDE BLUE CHIP   W02097   \n",
       "\n",
       "                     Agency    HireDate  AnnualSalary  GrossPay  \n",
       "0            Youth Summer    06/10/2013       11310.0    873.63  \n",
       "1       OED-Employment Dev   10/24/1979       53428.0  52868.38  \n",
       "2  States Attorneys Office   09/25/2006       68300.0  67439.19  \n",
       "3   HLTH-Health Department   07/23/2009       62000.0  58654.74  \n",
       "4        Police Department   07/24/2013       43999.0  39686.95  \n",
       "5      M-R Info Technology   05/01/2013       52000.0  47019.75  \n",
       "6          Fire Department   03/30/2011       62175.0  61451.50  \n",
       "7        Police Department   06/14/2007       70918.0  87900.27  \n",
       "8         Sheriff's Office   09/02/1999       42438.0  53667.53  \n",
       "9            Youth Summer    06/18/2014       11310.0       NaN  "
      ]
     },
     "execution_count": 8,
     "metadata": {},
     "output_type": "execute_result"
    }
   ],
   "source": [
    "data['AnnualSalary'] = data['AnnualSalary'].apply(lambda x: x.replace('$','')).astype(float)\n",
    "data['GrossPay'] = data['GrossPay'].str.replace('$','').astype(float)\n",
    "data.head(10)"
   ]
  },
  {
   "cell_type": "code",
   "execution_count": 9,
   "id": "5303ece9",
   "metadata": {},
   "outputs": [
    {
     "name": "stdout",
     "output_type": "stream",
     "text": [
      "<class 'pandas.core.frame.DataFrame'>\n",
      "RangeIndex: 18981 entries, 0 to 18980\n",
      "Data columns (total 7 columns):\n",
      " #   Column        Non-Null Count  Dtype  \n",
      "---  ------        --------------  -----  \n",
      " 0   Name          18981 non-null  object \n",
      " 1   JobTitle      18981 non-null  object \n",
      " 2   AgencyID      18981 non-null  object \n",
      " 3   Agency        18981 non-null  object \n",
      " 4   HireDate      18911 non-null  object \n",
      " 5   AnnualSalary  18981 non-null  float64\n",
      " 6   GrossPay      15758 non-null  float64\n",
      "dtypes: float64(2), object(5)\n",
      "memory usage: 1.0+ MB\n"
     ]
    }
   ],
   "source": [
    "data.info()"
   ]
  },
  {
   "cell_type": "code",
   "execution_count": 10,
   "id": "41814d4b",
   "metadata": {},
   "outputs": [
    {
     "data": {
      "text/plain": [
       "Name               0\n",
       "JobTitle           0\n",
       "AgencyID           0\n",
       "Agency             0\n",
       "HireDate          70\n",
       "AnnualSalary       0\n",
       "GrossPay        3223\n",
       "dtype: int64"
      ]
     },
     "execution_count": 10,
     "metadata": {},
     "output_type": "execute_result"
    }
   ],
   "source": [
    "data.isnull().sum()"
   ]
  },
  {
   "cell_type": "code",
   "execution_count": 11,
   "id": "a99bb89a",
   "metadata": {},
   "outputs": [],
   "source": [
    "data['HireDate'] = data['HireDate'].fillna(method = 'ffill')"
   ]
  },
  {
   "cell_type": "code",
   "execution_count": 12,
   "id": "12880904",
   "metadata": {},
   "outputs": [
    {
     "data": {
      "text/html": [
       "<div>\n",
       "<style scoped>\n",
       "    .dataframe tbody tr th:only-of-type {\n",
       "        vertical-align: middle;\n",
       "    }\n",
       "\n",
       "    .dataframe tbody tr th {\n",
       "        vertical-align: top;\n",
       "    }\n",
       "\n",
       "    .dataframe thead th {\n",
       "        text-align: right;\n",
       "    }\n",
       "</style>\n",
       "<table border=\"1\" class=\"dataframe\">\n",
       "  <thead>\n",
       "    <tr style=\"text-align: right;\">\n",
       "      <th></th>\n",
       "      <th>Name</th>\n",
       "      <th>JobTitle</th>\n",
       "      <th>AgencyID</th>\n",
       "      <th>Agency</th>\n",
       "      <th>HireDate</th>\n",
       "      <th>AnnualSalary</th>\n",
       "    </tr>\n",
       "  </thead>\n",
       "  <tbody>\n",
       "    <tr>\n",
       "      <th>0</th>\n",
       "      <td>Aaron,Keontae E</td>\n",
       "      <td>AIDE BLUE CHIP</td>\n",
       "      <td>W02200</td>\n",
       "      <td>Youth Summer</td>\n",
       "      <td>06/10/2013</td>\n",
       "      <td>11310.0</td>\n",
       "    </tr>\n",
       "    <tr>\n",
       "      <th>1</th>\n",
       "      <td>Aaron,Patricia G</td>\n",
       "      <td>Facilities/Office Services II</td>\n",
       "      <td>A03031</td>\n",
       "      <td>OED-Employment Dev</td>\n",
       "      <td>10/24/1979</td>\n",
       "      <td>53428.0</td>\n",
       "    </tr>\n",
       "    <tr>\n",
       "      <th>2</th>\n",
       "      <td>Aaron,Petra L</td>\n",
       "      <td>ASSISTANT STATE'S ATTORNEY</td>\n",
       "      <td>A29005</td>\n",
       "      <td>States Attorneys Office</td>\n",
       "      <td>09/25/2006</td>\n",
       "      <td>68300.0</td>\n",
       "    </tr>\n",
       "    <tr>\n",
       "      <th>3</th>\n",
       "      <td>Abaineh,Yohannes T</td>\n",
       "      <td>EPIDEMIOLOGIST</td>\n",
       "      <td>A65026</td>\n",
       "      <td>HLTH-Health Department</td>\n",
       "      <td>07/23/2009</td>\n",
       "      <td>62000.0</td>\n",
       "    </tr>\n",
       "    <tr>\n",
       "      <th>4</th>\n",
       "      <td>Abbene,Anthony M</td>\n",
       "      <td>POLICE OFFICER TRAINEE</td>\n",
       "      <td>A99416</td>\n",
       "      <td>Police Department</td>\n",
       "      <td>07/24/2013</td>\n",
       "      <td>43999.0</td>\n",
       "    </tr>\n",
       "  </tbody>\n",
       "</table>\n",
       "</div>"
      ],
      "text/plain": [
       "                 Name                       JobTitle AgencyID  \\\n",
       "0     Aaron,Keontae E                 AIDE BLUE CHIP   W02200   \n",
       "1    Aaron,Patricia G  Facilities/Office Services II   A03031   \n",
       "2       Aaron,Petra L     ASSISTANT STATE'S ATTORNEY   A29005   \n",
       "3  Abaineh,Yohannes T                 EPIDEMIOLOGIST   A65026   \n",
       "4    Abbene,Anthony M         POLICE OFFICER TRAINEE   A99416   \n",
       "\n",
       "                     Agency    HireDate  AnnualSalary  \n",
       "0            Youth Summer    06/10/2013       11310.0  \n",
       "1       OED-Employment Dev   10/24/1979       53428.0  \n",
       "2  States Attorneys Office   09/25/2006       68300.0  \n",
       "3   HLTH-Health Department   07/23/2009       62000.0  \n",
       "4        Police Department   07/24/2013       43999.0  "
      ]
     },
     "execution_count": 12,
     "metadata": {},
     "output_type": "execute_result"
    }
   ],
   "source": [
    "data.drop('GrossPay',axis=1,inplace=True)\n",
    "data.head(5)"
   ]
  },
  {
   "cell_type": "code",
   "execution_count": 13,
   "id": "6cf83149",
   "metadata": {},
   "outputs": [],
   "source": [
    "import datetime as dt"
   ]
  },
  {
   "cell_type": "code",
   "execution_count": 14,
   "id": "fa36c2c1",
   "metadata": {},
   "outputs": [
    {
     "name": "stdout",
     "output_type": "stream",
     "text": [
      "<class 'pandas.core.frame.DataFrame'>\n",
      "RangeIndex: 18981 entries, 0 to 18980\n",
      "Data columns (total 6 columns):\n",
      " #   Column        Non-Null Count  Dtype         \n",
      "---  ------        --------------  -----         \n",
      " 0   Name          18981 non-null  object        \n",
      " 1   JobTitle      18981 non-null  object        \n",
      " 2   AgencyID      18981 non-null  object        \n",
      " 3   Agency        18981 non-null  object        \n",
      " 4   HireDate      18981 non-null  datetime64[ns]\n",
      " 5   AnnualSalary  18981 non-null  float64       \n",
      "dtypes: datetime64[ns](1), float64(1), object(4)\n",
      "memory usage: 889.9+ KB\n"
     ]
    }
   ],
   "source": [
    "data['HireDate'] = pd.to_datetime(data['HireDate'],errors = 'coerce')\n",
    "data.info()"
   ]
  },
  {
   "cell_type": "code",
   "execution_count": 15,
   "id": "3f6ec757",
   "metadata": {},
   "outputs": [
    {
     "data": {
      "text/html": [
       "<div>\n",
       "<style scoped>\n",
       "    .dataframe tbody tr th:only-of-type {\n",
       "        vertical-align: middle;\n",
       "    }\n",
       "\n",
       "    .dataframe tbody tr th {\n",
       "        vertical-align: top;\n",
       "    }\n",
       "\n",
       "    .dataframe thead th {\n",
       "        text-align: right;\n",
       "    }\n",
       "</style>\n",
       "<table border=\"1\" class=\"dataframe\">\n",
       "  <thead>\n",
       "    <tr style=\"text-align: right;\">\n",
       "      <th></th>\n",
       "      <th>Name</th>\n",
       "      <th>JobTitle</th>\n",
       "      <th>AgencyID</th>\n",
       "      <th>Agency</th>\n",
       "      <th>HireDate</th>\n",
       "      <th>AnnualSalary</th>\n",
       "    </tr>\n",
       "  </thead>\n",
       "  <tbody>\n",
       "    <tr>\n",
       "      <th>0</th>\n",
       "      <td>Aaron,Keontae E</td>\n",
       "      <td>AIDE BLUE CHIP</td>\n",
       "      <td>W02200</td>\n",
       "      <td>Youth Summer</td>\n",
       "      <td>2013-06-10</td>\n",
       "      <td>11310.0</td>\n",
       "    </tr>\n",
       "    <tr>\n",
       "      <th>1</th>\n",
       "      <td>Aaron,Patricia G</td>\n",
       "      <td>Facilities/Office Services II</td>\n",
       "      <td>A03031</td>\n",
       "      <td>OED-Employment Dev</td>\n",
       "      <td>1979-10-24</td>\n",
       "      <td>53428.0</td>\n",
       "    </tr>\n",
       "    <tr>\n",
       "      <th>2</th>\n",
       "      <td>Aaron,Petra L</td>\n",
       "      <td>ASSISTANT STATE'S ATTORNEY</td>\n",
       "      <td>A29005</td>\n",
       "      <td>States Attorneys Office</td>\n",
       "      <td>2006-09-25</td>\n",
       "      <td>68300.0</td>\n",
       "    </tr>\n",
       "    <tr>\n",
       "      <th>3</th>\n",
       "      <td>Abaineh,Yohannes T</td>\n",
       "      <td>EPIDEMIOLOGIST</td>\n",
       "      <td>A65026</td>\n",
       "      <td>HLTH-Health Department</td>\n",
       "      <td>2009-07-23</td>\n",
       "      <td>62000.0</td>\n",
       "    </tr>\n",
       "    <tr>\n",
       "      <th>4</th>\n",
       "      <td>Abbene,Anthony M</td>\n",
       "      <td>POLICE OFFICER TRAINEE</td>\n",
       "      <td>A99416</td>\n",
       "      <td>Police Department</td>\n",
       "      <td>2013-07-24</td>\n",
       "      <td>43999.0</td>\n",
       "    </tr>\n",
       "  </tbody>\n",
       "</table>\n",
       "</div>"
      ],
      "text/plain": [
       "                 Name                       JobTitle AgencyID  \\\n",
       "0     Aaron,Keontae E                 AIDE BLUE CHIP   W02200   \n",
       "1    Aaron,Patricia G  Facilities/Office Services II   A03031   \n",
       "2       Aaron,Petra L     ASSISTANT STATE'S ATTORNEY   A29005   \n",
       "3  Abaineh,Yohannes T                 EPIDEMIOLOGIST   A65026   \n",
       "4    Abbene,Anthony M         POLICE OFFICER TRAINEE   A99416   \n",
       "\n",
       "                     Agency   HireDate  AnnualSalary  \n",
       "0            Youth Summer   2013-06-10       11310.0  \n",
       "1       OED-Employment Dev  1979-10-24       53428.0  \n",
       "2  States Attorneys Office  2006-09-25       68300.0  \n",
       "3   HLTH-Health Department  2009-07-23       62000.0  \n",
       "4        Police Department  2013-07-24       43999.0  "
      ]
     },
     "execution_count": 15,
     "metadata": {},
     "output_type": "execute_result"
    }
   ],
   "source": [
    "data.head(5)"
   ]
  },
  {
   "cell_type": "code",
   "execution_count": 16,
   "id": "3cd5cabe",
   "metadata": {},
   "outputs": [
    {
     "data": {
      "text/html": [
       "<div>\n",
       "<style scoped>\n",
       "    .dataframe tbody tr th:only-of-type {\n",
       "        vertical-align: middle;\n",
       "    }\n",
       "\n",
       "    .dataframe tbody tr th {\n",
       "        vertical-align: top;\n",
       "    }\n",
       "\n",
       "    .dataframe thead th {\n",
       "        text-align: right;\n",
       "    }\n",
       "</style>\n",
       "<table border=\"1\" class=\"dataframe\">\n",
       "  <thead>\n",
       "    <tr style=\"text-align: right;\">\n",
       "      <th></th>\n",
       "      <th>Name</th>\n",
       "      <th>JobTitle</th>\n",
       "      <th>AgencyID</th>\n",
       "      <th>Agency</th>\n",
       "      <th>HireDate</th>\n",
       "      <th>AnnualSalary</th>\n",
       "      <th>Month_of_recruit</th>\n",
       "    </tr>\n",
       "  </thead>\n",
       "  <tbody>\n",
       "    <tr>\n",
       "      <th>0</th>\n",
       "      <td>Aaron,Keontae E</td>\n",
       "      <td>AIDE BLUE CHIP</td>\n",
       "      <td>W02200</td>\n",
       "      <td>Youth Summer</td>\n",
       "      <td>2013-06-10</td>\n",
       "      <td>11310.0</td>\n",
       "      <td>june</td>\n",
       "    </tr>\n",
       "    <tr>\n",
       "      <th>1</th>\n",
       "      <td>Aaron,Patricia G</td>\n",
       "      <td>Facilities/Office Services II</td>\n",
       "      <td>A03031</td>\n",
       "      <td>OED-Employment Dev</td>\n",
       "      <td>1979-10-24</td>\n",
       "      <td>53428.0</td>\n",
       "      <td>oct</td>\n",
       "    </tr>\n",
       "    <tr>\n",
       "      <th>2</th>\n",
       "      <td>Aaron,Petra L</td>\n",
       "      <td>ASSISTANT STATE'S ATTORNEY</td>\n",
       "      <td>A29005</td>\n",
       "      <td>States Attorneys Office</td>\n",
       "      <td>2006-09-25</td>\n",
       "      <td>68300.0</td>\n",
       "      <td>sept</td>\n",
       "    </tr>\n",
       "    <tr>\n",
       "      <th>3</th>\n",
       "      <td>Abaineh,Yohannes T</td>\n",
       "      <td>EPIDEMIOLOGIST</td>\n",
       "      <td>A65026</td>\n",
       "      <td>HLTH-Health Department</td>\n",
       "      <td>2009-07-23</td>\n",
       "      <td>62000.0</td>\n",
       "      <td>july</td>\n",
       "    </tr>\n",
       "    <tr>\n",
       "      <th>4</th>\n",
       "      <td>Abbene,Anthony M</td>\n",
       "      <td>POLICE OFFICER TRAINEE</td>\n",
       "      <td>A99416</td>\n",
       "      <td>Police Department</td>\n",
       "      <td>2013-07-24</td>\n",
       "      <td>43999.0</td>\n",
       "      <td>july</td>\n",
       "    </tr>\n",
       "  </tbody>\n",
       "</table>\n",
       "</div>"
      ],
      "text/plain": [
       "                 Name                       JobTitle AgencyID  \\\n",
       "0     Aaron,Keontae E                 AIDE BLUE CHIP   W02200   \n",
       "1    Aaron,Patricia G  Facilities/Office Services II   A03031   \n",
       "2       Aaron,Petra L     ASSISTANT STATE'S ATTORNEY   A29005   \n",
       "3  Abaineh,Yohannes T                 EPIDEMIOLOGIST   A65026   \n",
       "4    Abbene,Anthony M         POLICE OFFICER TRAINEE   A99416   \n",
       "\n",
       "                     Agency   HireDate  AnnualSalary Month_of_recruit  \n",
       "0            Youth Summer   2013-06-10       11310.0             june  \n",
       "1       OED-Employment Dev  1979-10-24       53428.0              oct  \n",
       "2  States Attorneys Office  2006-09-25       68300.0             sept  \n",
       "3   HLTH-Health Department  2009-07-23       62000.0             july  \n",
       "4        Police Department  2013-07-24       43999.0             july  "
      ]
     },
     "execution_count": 16,
     "metadata": {},
     "output_type": "execute_result"
    }
   ],
   "source": [
    "data['Month_of_recruit'] = pd.DatetimeIndex(data['HireDate']).month\n",
    "data['Month_of_recruit'] = data['Month_of_recruit'].map({1:'jan',2:'feb',3:'march',4:'april',5:'may',6:'june',7:'july',8:'Aug',9:'sept',10:'oct',11:'nov',12:'dec'})\n",
    "\n",
    "data.head(5)"
   ]
  },
  {
   "cell_type": "code",
   "execution_count": 17,
   "id": "194854c0",
   "metadata": {},
   "outputs": [
    {
     "data": {
      "text/plain": [
       "<AxesSubplot:xlabel='Month_of_recruit', ylabel='count'>"
      ]
     },
     "execution_count": 17,
     "metadata": {},
     "output_type": "execute_result"
    },
    {
     "data": {
      "image/png": "[encoded data removed]",
      "text/plain": [
       "<Figure size 432x288 with 1 Axes>"
      ]
     },
     "metadata": {},
     "output_type": "display_data"
    }
   ],
   "source": [
    "sns.set_style('whitegrid')\n",
    "sns.countplot(data['Month_of_recruit'],order = data['Month_of_recruit'].value_counts().index)"
   ]
  },
  {
   "cell_type": "markdown",
   "id": "5c66d374",
   "metadata": {},
   "source": [
    "#Maximum recruitment is in the month of june"
   ]
  },
  {
   "cell_type": "markdown",
   "id": "7c566974",
   "metadata": {},
   "source": [
    "Now lets see in which year june had most recruits"
   ]
  },
  {
   "cell_type": "code",
   "execution_count": 18,
   "id": "1bf9ffa4",
   "metadata": {},
   "outputs": [
    {
     "data": {
      "text/html": [
       "<div>\n",
       "<style scoped>\n",
       "    .dataframe tbody tr th:only-of-type {\n",
       "        vertical-align: middle;\n",
       "    }\n",
       "\n",
       "    .dataframe tbody tr th {\n",
       "        vertical-align: top;\n",
       "    }\n",
       "\n",
       "    .dataframe thead th {\n",
       "        text-align: right;\n",
       "    }\n",
       "</style>\n",
       "<table border=\"1\" class=\"dataframe\">\n",
       "  <thead>\n",
       "    <tr style=\"text-align: right;\">\n",
       "      <th></th>\n",
       "      <th>Name</th>\n",
       "      <th>JobTitle</th>\n",
       "      <th>AgencyID</th>\n",
       "      <th>Agency</th>\n",
       "      <th>HireDate</th>\n",
       "      <th>AnnualSalary</th>\n",
       "      <th>Month_of_recruit</th>\n",
       "      <th>Year_of_recruit</th>\n",
       "    </tr>\n",
       "  </thead>\n",
       "  <tbody>\n",
       "    <tr>\n",
       "      <th>0</th>\n",
       "      <td>Aaron,Keontae E</td>\n",
       "      <td>AIDE BLUE CHIP</td>\n",
       "      <td>W02200</td>\n",
       "      <td>Youth Summer</td>\n",
       "      <td>2013-06-10</td>\n",
       "      <td>11310.0</td>\n",
       "      <td>june</td>\n",
       "      <td>2013</td>\n",
       "    </tr>\n",
       "    <tr>\n",
       "      <th>1</th>\n",
       "      <td>Aaron,Patricia G</td>\n",
       "      <td>Facilities/Office Services II</td>\n",
       "      <td>A03031</td>\n",
       "      <td>OED-Employment Dev</td>\n",
       "      <td>1979-10-24</td>\n",
       "      <td>53428.0</td>\n",
       "      <td>oct</td>\n",
       "      <td>1979</td>\n",
       "    </tr>\n",
       "    <tr>\n",
       "      <th>2</th>\n",
       "      <td>Aaron,Petra L</td>\n",
       "      <td>ASSISTANT STATE'S ATTORNEY</td>\n",
       "      <td>A29005</td>\n",
       "      <td>States Attorneys Office</td>\n",
       "      <td>2006-09-25</td>\n",
       "      <td>68300.0</td>\n",
       "      <td>sept</td>\n",
       "      <td>2006</td>\n",
       "    </tr>\n",
       "    <tr>\n",
       "      <th>3</th>\n",
       "      <td>Abaineh,Yohannes T</td>\n",
       "      <td>EPIDEMIOLOGIST</td>\n",
       "      <td>A65026</td>\n",
       "      <td>HLTH-Health Department</td>\n",
       "      <td>2009-07-23</td>\n",
       "      <td>62000.0</td>\n",
       "      <td>july</td>\n",
       "      <td>2009</td>\n",
       "    </tr>\n",
       "    <tr>\n",
       "      <th>4</th>\n",
       "      <td>Abbene,Anthony M</td>\n",
       "      <td>POLICE OFFICER TRAINEE</td>\n",
       "      <td>A99416</td>\n",
       "      <td>Police Department</td>\n",
       "      <td>2013-07-24</td>\n",
       "      <td>43999.0</td>\n",
       "      <td>july</td>\n",
       "      <td>2013</td>\n",
       "    </tr>\n",
       "  </tbody>\n",
       "</table>\n",
       "</div>"
      ],
      "text/plain": [
       "                 Name                       JobTitle AgencyID  \\\n",
       "0     Aaron,Keontae E                 AIDE BLUE CHIP   W02200   \n",
       "1    Aaron,Patricia G  Facilities/Office Services II   A03031   \n",
       "2       Aaron,Petra L     ASSISTANT STATE'S ATTORNEY   A29005   \n",
       "3  Abaineh,Yohannes T                 EPIDEMIOLOGIST   A65026   \n",
       "4    Abbene,Anthony M         POLICE OFFICER TRAINEE   A99416   \n",
       "\n",
       "                     Agency   HireDate  AnnualSalary Month_of_recruit  \\\n",
       "0            Youth Summer   2013-06-10       11310.0             june   \n",
       "1       OED-Employment Dev  1979-10-24       53428.0              oct   \n",
       "2  States Attorneys Office  2006-09-25       68300.0             sept   \n",
       "3   HLTH-Health Department  2009-07-23       62000.0             july   \n",
       "4        Police Department  2013-07-24       43999.0             july   \n",
       "\n",
       "   Year_of_recruit  \n",
       "0             2013  \n",
       "1             1979  \n",
       "2             2006  \n",
       "3             2009  \n",
       "4             2013  "
      ]
     },
     "execution_count": 18,
     "metadata": {},
     "output_type": "execute_result"
    }
   ],
   "source": [
    "data['Year_of_recruit'] = pd.DatetimeIndex(data['HireDate']).year\n",
    "data.head(5)"
   ]
  },
  {
   "cell_type": "code",
   "execution_count": 19,
   "id": "40b92959",
   "metadata": {},
   "outputs": [],
   "source": [
    "june_data = data[data.Month_of_recruit == 'june']"
   ]
  },
  {
   "cell_type": "code",
   "execution_count": 20,
   "id": "d6941dd3",
   "metadata": {},
   "outputs": [
    {
     "data": {
      "text/html": [
       "<div>\n",
       "<style scoped>\n",
       "    .dataframe tbody tr th:only-of-type {\n",
       "        vertical-align: middle;\n",
       "    }\n",
       "\n",
       "    .dataframe tbody tr th {\n",
       "        vertical-align: top;\n",
       "    }\n",
       "\n",
       "    .dataframe thead th {\n",
       "        text-align: right;\n",
       "    }\n",
       "</style>\n",
       "<table border=\"1\" class=\"dataframe\">\n",
       "  <thead>\n",
       "    <tr style=\"text-align: right;\">\n",
       "      <th></th>\n",
       "      <th>Name</th>\n",
       "      <th>JobTitle</th>\n",
       "      <th>AgencyID</th>\n",
       "      <th>Agency</th>\n",
       "      <th>HireDate</th>\n",
       "      <th>AnnualSalary</th>\n",
       "      <th>Month_of_recruit</th>\n",
       "      <th>Year_of_recruit</th>\n",
       "    </tr>\n",
       "  </thead>\n",
       "  <tbody>\n",
       "    <tr>\n",
       "      <th>0</th>\n",
       "      <td>Aaron,Keontae E</td>\n",
       "      <td>AIDE BLUE CHIP</td>\n",
       "      <td>W02200</td>\n",
       "      <td>Youth Summer</td>\n",
       "      <td>2013-06-10</td>\n",
       "      <td>11310.0</td>\n",
       "      <td>june</td>\n",
       "      <td>2013</td>\n",
       "    </tr>\n",
       "    <tr>\n",
       "      <th>7</th>\n",
       "      <td>Abdi,Ezekiel W</td>\n",
       "      <td>POLICE SERGEANT</td>\n",
       "      <td>A99127</td>\n",
       "      <td>Police Department</td>\n",
       "      <td>2007-06-14</td>\n",
       "      <td>70918.0</td>\n",
       "      <td>june</td>\n",
       "      <td>2007</td>\n",
       "    </tr>\n",
       "    <tr>\n",
       "      <th>9</th>\n",
       "      <td>Abdul Aziz,Hajr E</td>\n",
       "      <td>AIDE BLUE CHIP</td>\n",
       "      <td>W02097</td>\n",
       "      <td>Youth Summer</td>\n",
       "      <td>2014-06-18</td>\n",
       "      <td>11310.0</td>\n",
       "      <td>june</td>\n",
       "      <td>2014</td>\n",
       "    </tr>\n",
       "    <tr>\n",
       "      <th>10</th>\n",
       "      <td>Abdul Aziz,Jennah A</td>\n",
       "      <td>AIDE BLUE CHIP</td>\n",
       "      <td>W02097</td>\n",
       "      <td>Youth Summer</td>\n",
       "      <td>2014-06-16</td>\n",
       "      <td>11310.0</td>\n",
       "      <td>june</td>\n",
       "      <td>2014</td>\n",
       "    </tr>\n",
       "    <tr>\n",
       "      <th>11</th>\n",
       "      <td>Abdul Aziz,Yaqub M</td>\n",
       "      <td>AIDE BLUE CHIP</td>\n",
       "      <td>W02097</td>\n",
       "      <td>Youth Summer</td>\n",
       "      <td>2014-06-09</td>\n",
       "      <td>11310.0</td>\n",
       "      <td>june</td>\n",
       "      <td>2014</td>\n",
       "    </tr>\n",
       "    <tr>\n",
       "      <th>...</th>\n",
       "      <td>...</td>\n",
       "      <td>...</td>\n",
       "      <td>...</td>\n",
       "      <td>...</td>\n",
       "      <td>...</td>\n",
       "      <td>...</td>\n",
       "      <td>...</td>\n",
       "      <td>...</td>\n",
       "    </tr>\n",
       "    <tr>\n",
       "      <th>18930</th>\n",
       "      <td>Youngfellow,Amber A</td>\n",
       "      <td>AIDE BLUE CHIP</td>\n",
       "      <td>W02479</td>\n",
       "      <td>Youth Summer</td>\n",
       "      <td>2012-06-12</td>\n",
       "      <td>11310.0</td>\n",
       "      <td>june</td>\n",
       "      <td>2012</td>\n",
       "    </tr>\n",
       "    <tr>\n",
       "      <th>18943</th>\n",
       "      <td>Zarro,Antonio</td>\n",
       "      <td>RECREATION ACTIVITIES ASSISTAN</td>\n",
       "      <td>P04001</td>\n",
       "      <td>R&amp;P-Recreation (part-ti</td>\n",
       "      <td>2008-06-23</td>\n",
       "      <td>16640.0</td>\n",
       "      <td>june</td>\n",
       "      <td>2008</td>\n",
       "    </tr>\n",
       "    <tr>\n",
       "      <th>18949</th>\n",
       "      <td>Zektick,Barbara S</td>\n",
       "      <td>EXECUTIVE LEVEL I</td>\n",
       "      <td>A49101</td>\n",
       "      <td>TRANS-Highways</td>\n",
       "      <td>2006-06-12</td>\n",
       "      <td>96390.0</td>\n",
       "      <td>june</td>\n",
       "      <td>2006</td>\n",
       "    </tr>\n",
       "    <tr>\n",
       "      <th>18957</th>\n",
       "      <td>Zerance,Michael A</td>\n",
       "      <td>RECREATION ARTS INSTRUCTOR</td>\n",
       "      <td>P04001</td>\n",
       "      <td>R&amp;P-Recreation (part-ti</td>\n",
       "      <td>2011-06-07</td>\n",
       "      <td>20800.0</td>\n",
       "      <td>june</td>\n",
       "      <td>2011</td>\n",
       "    </tr>\n",
       "    <tr>\n",
       "      <th>18961</th>\n",
       "      <td>Zhou,Xiaoyu</td>\n",
       "      <td>LIBRARIAN SUPV II</td>\n",
       "      <td>A75086</td>\n",
       "      <td>Enoch Pratt Free Library</td>\n",
       "      <td>2005-06-06</td>\n",
       "      <td>63400.0</td>\n",
       "      <td>june</td>\n",
       "      <td>2005</td>\n",
       "    </tr>\n",
       "  </tbody>\n",
       "</table>\n",
       "<p>4501 rows × 8 columns</p>\n",
       "</div>"
      ],
      "text/plain": [
       "                      Name                        JobTitle AgencyID  \\\n",
       "0          Aaron,Keontae E                  AIDE BLUE CHIP   W02200   \n",
       "7           Abdi,Ezekiel W                 POLICE SERGEANT   A99127   \n",
       "9        Abdul Aziz,Hajr E                  AIDE BLUE CHIP   W02097   \n",
       "10     Abdul Aziz,Jennah A                  AIDE BLUE CHIP   W02097   \n",
       "11      Abdul Aziz,Yaqub M                  AIDE BLUE CHIP   W02097   \n",
       "...                    ...                             ...      ...   \n",
       "18930  Youngfellow,Amber A                  AIDE BLUE CHIP   W02479   \n",
       "18943        Zarro,Antonio  RECREATION ACTIVITIES ASSISTAN   P04001   \n",
       "18949    Zektick,Barbara S               EXECUTIVE LEVEL I   A49101   \n",
       "18957    Zerance,Michael A      RECREATION ARTS INSTRUCTOR   P04001   \n",
       "18961          Zhou,Xiaoyu               LIBRARIAN SUPV II   A75086   \n",
       "\n",
       "                          Agency   HireDate  AnnualSalary Month_of_recruit  \\\n",
       "0                 Youth Summer   2013-06-10       11310.0             june   \n",
       "7             Police Department  2007-06-14       70918.0             june   \n",
       "9                 Youth Summer   2014-06-18       11310.0             june   \n",
       "10                Youth Summer   2014-06-16       11310.0             june   \n",
       "11                Youth Summer   2014-06-09       11310.0             june   \n",
       "...                          ...        ...           ...              ...   \n",
       "18930             Youth Summer   2012-06-12       11310.0             june   \n",
       "18943    R&P-Recreation (part-ti 2008-06-23       16640.0             june   \n",
       "18949            TRANS-Highways  2006-06-12       96390.0             june   \n",
       "18957    R&P-Recreation (part-ti 2011-06-07       20800.0             june   \n",
       "18961  Enoch Pratt Free Library  2005-06-06       63400.0             june   \n",
       "\n",
       "       Year_of_recruit  \n",
       "0                 2013  \n",
       "7                 2007  \n",
       "9                 2014  \n",
       "10                2014  \n",
       "11                2014  \n",
       "...                ...  \n",
       "18930             2012  \n",
       "18943             2008  \n",
       "18949             2006  \n",
       "18957             2011  \n",
       "18961             2005  \n",
       "\n",
       "[4501 rows x 8 columns]"
      ]
     },
     "execution_count": 20,
     "metadata": {},
     "output_type": "execute_result"
    }
   ],
   "source": [
    "june_data"
   ]
  },
  {
   "cell_type": "code",
   "execution_count": 21,
   "id": "228adb6e",
   "metadata": {
    "scrolled": true
   },
   "outputs": [
    {
     "data": {
      "text/plain": [
       "32704"
      ]
     },
     "execution_count": 21,
     "metadata": {},
     "output_type": "execute_result"
    }
   ],
   "source": [
    "june_data[june_data.Year_of_recruit > 2000].size"
   ]
  },
  {
   "cell_type": "code",
   "execution_count": 22,
   "id": "e5a90b4e",
   "metadata": {},
   "outputs": [
    {
     "data": {
      "text/plain": [
       "3104"
      ]
     },
     "execution_count": 22,
     "metadata": {},
     "output_type": "execute_result"
    }
   ],
   "source": [
    "june_data[june_data.Year_of_recruit < 2000].size"
   ]
  },
  {
   "cell_type": "markdown",
   "id": "4b715f72",
   "metadata": {},
   "source": [
    "Majority of the recruitment done in june are after 2000\n"
   ]
  },
  {
   "cell_type": "code",
   "execution_count": 23,
   "id": "d640d71a",
   "metadata": {},
   "outputs": [
    {
     "name": "stdout",
     "output_type": "stream",
     "text": [
      "107712\n",
      "41296\n"
     ]
    }
   ],
   "source": [
    "#For the entire data we can do the same as\n",
    "\n",
    "\n",
    "print(data[data.Year_of_recruit > 2000].size)\n",
    "print(data[data.Year_of_recruit < 2000].size)"
   ]
  },
  {
   "cell_type": "markdown",
   "id": "62a4e325",
   "metadata": {},
   "source": [
    "For the entire data also .. the majority of recruitments are after 2000"
   ]
  },
  {
   "cell_type": "code",
   "execution_count": 24,
   "id": "e503fd90",
   "metadata": {},
   "outputs": [],
   "source": [
    "#Top 10 Agencies which gave maximum salary in the month of june --"
   ]
  },
  {
   "cell_type": "code",
   "execution_count": 25,
   "id": "d80903b1",
   "metadata": {},
   "outputs": [
    {
     "data": {
      "text/plain": [
       "<AxesSubplot:xlabel='Agency'>"
      ]
     },
     "execution_count": 25,
     "metadata": {},
     "output_type": "execute_result"
    },
    {
     "data": {
      "image/png": "[encoded data removed]",
      "text/plain": [
       "<Figure size 432x288 with 1 Axes>"
      ]
     },
     "metadata": {},
     "output_type": "display_data"
    }
   ],
   "source": [
    "june_data.groupby('Agency')['AnnualSalary'].mean().nlargest(10).plot(kind = 'bar',cmap ='viridis')"
   ]
  },
  {
   "cell_type": "markdown",
   "id": "852718ac",
   "metadata": {},
   "source": [
    "Maximum paying agency overall ???\n"
   ]
  },
  {
   "cell_type": "code",
   "execution_count": 26,
   "id": "8e1630ad",
   "metadata": {},
   "outputs": [
    {
     "data": {
      "text/plain": [
       "<AxesSubplot:xlabel='Agency'>"
      ]
     },
     "execution_count": 26,
     "metadata": {},
     "output_type": "execute_result"
    },
    {
     "data": {
      "image/png": "[encoded data removed]",
      "text/plain": [
       "<Figure size 432x288 with 1 Axes>"
      ]
     },
     "metadata": {},
     "output_type": "display_data"
    }
   ],
   "source": [
    "data.groupby('Agency')['AnnualSalary'].mean().nlargest(10).plot(kind = 'bar',cmap = 'viridis')"
   ]
  },
  {
   "cell_type": "markdown",
   "id": "871b7950",
   "metadata": {},
   "source": [
    "Even for the entire data Mayor's Office has paid maximum salary to the employees"
   ]
  },
  {
   "cell_type": "markdown",
   "id": "0fb859d4",
   "metadata": {},
   "source": [
    "which job title has the maximum salary overall ?\n"
   ]
  },
  {
   "cell_type": "code",
   "execution_count": 27,
   "id": "18240e09",
   "metadata": {},
   "outputs": [
    {
     "data": {
      "text/plain": [
       "<AxesSubplot:xlabel='JobTitle'>"
      ]
     },
     "execution_count": 27,
     "metadata": {},
     "output_type": "execute_result"
    },
    {
     "data": {
      "image/png": "[encoded data removed]",
      "text/plain": [
       "<Figure size 432x288 with 1 Axes>"
      ]
     },
     "metadata": {},
     "output_type": "display_data"
    }
   ],
   "source": [
    "data.groupby('JobTitle')['AnnualSalary'].mean().nlargest(10).plot(kind = 'bar',cmap = 'viridis')"
   ]
  },
  {
   "cell_type": "markdown",
   "id": "b700b54c",
   "metadata": {},
   "source": [
    "Increase in salary with time .. for june"
   ]
  },
  {
   "cell_type": "code",
   "execution_count": 28,
   "id": "1d810a6e",
   "metadata": {},
   "outputs": [
    {
     "data": {
      "text/plain": [
       "<AxesSubplot:xlabel='Year_of_recruit'>"
      ]
     },
     "execution_count": 28,
     "metadata": {},
     "output_type": "execute_result"
    },
    {
     "data": {
      "image/png": "[encoded data removed]",
      "text/plain": [
       "<Figure size 432x288 with 1 Axes>"
      ]
     },
     "metadata": {},
     "output_type": "display_data"
    }
   ],
   "source": [
    "june_data.groupby('Year_of_recruit')['AnnualSalary'].mean().plot(kind = 'line')"
   ]
  },
  {
   "cell_type": "markdown",
   "id": "113e55ae",
   "metadata": {},
   "source": [
    "LOL instead of increasing the salary got decreased \n",
    "maybe becuase the recruitment has increased they reduced pay haha"
   ]
  },
  {
   "cell_type": "markdown",
   "id": "13640d44",
   "metadata": {},
   "source": [
    "Lets see the same for the overall data"
   ]
  },
  {
   "cell_type": "code",
   "execution_count": 29,
   "id": "e794bfe9",
   "metadata": {},
   "outputs": [
    {
     "data": {
      "text/plain": [
       "<AxesSubplot:xlabel='Year_of_recruit'>"
      ]
     },
     "execution_count": 29,
     "metadata": {},
     "output_type": "execute_result"
    },
    {
     "data": {
      "image/png": "[encoded data removed]",
      "text/plain": [
       "<Figure size 432x288 with 1 Axes>"
      ]
     },
     "metadata": {},
     "output_type": "display_data"
    }
   ],
   "source": [
    "data.groupby('Year_of_recruit')['AnnualSalary'].mean().plot(kind = 'line',cmap='viridis')"
   ]
  },
  {
   "cell_type": "markdown",
   "id": "76534d2b",
   "metadata": {},
   "source": [
    "same trend follows... here as well"
   ]
  },
  {
   "cell_type": "markdown",
   "id": "df1aed7c",
   "metadata": {},
   "source": [
    "Surprising !! "
   ]
  },
  {
   "cell_type": "code",
   "execution_count": 30,
   "id": "5f694350",
   "metadata": {},
   "outputs": [],
   "source": [
    "## Adding the day column in the data now \n",
    "data['Day_of_recruit'] = data['HireDate'].dt.day_name()"
   ]
  },
  {
   "cell_type": "code",
   "execution_count": 31,
   "id": "b86cb8a0",
   "metadata": {},
   "outputs": [
    {
     "data": {
      "text/html": [
       "<div>\n",
       "<style scoped>\n",
       "    .dataframe tbody tr th:only-of-type {\n",
       "        vertical-align: middle;\n",
       "    }\n",
       "\n",
       "    .dataframe tbody tr th {\n",
       "        vertical-align: top;\n",
       "    }\n",
       "\n",
       "    .dataframe thead th {\n",
       "        text-align: right;\n",
       "    }\n",
       "</style>\n",
       "<table border=\"1\" class=\"dataframe\">\n",
       "  <thead>\n",
       "    <tr style=\"text-align: right;\">\n",
       "      <th></th>\n",
       "      <th>Name</th>\n",
       "      <th>JobTitle</th>\n",
       "      <th>AgencyID</th>\n",
       "      <th>Agency</th>\n",
       "      <th>HireDate</th>\n",
       "      <th>AnnualSalary</th>\n",
       "      <th>Month_of_recruit</th>\n",
       "      <th>Year_of_recruit</th>\n",
       "      <th>Day_of_recruit</th>\n",
       "    </tr>\n",
       "  </thead>\n",
       "  <tbody>\n",
       "    <tr>\n",
       "      <th>0</th>\n",
       "      <td>Aaron,Keontae E</td>\n",
       "      <td>AIDE BLUE CHIP</td>\n",
       "      <td>W02200</td>\n",
       "      <td>Youth Summer</td>\n",
       "      <td>2013-06-10</td>\n",
       "      <td>11310.0</td>\n",
       "      <td>june</td>\n",
       "      <td>2013</td>\n",
       "      <td>Monday</td>\n",
       "    </tr>\n",
       "    <tr>\n",
       "      <th>1</th>\n",
       "      <td>Aaron,Patricia G</td>\n",
       "      <td>Facilities/Office Services II</td>\n",
       "      <td>A03031</td>\n",
       "      <td>OED-Employment Dev</td>\n",
       "      <td>1979-10-24</td>\n",
       "      <td>53428.0</td>\n",
       "      <td>oct</td>\n",
       "      <td>1979</td>\n",
       "      <td>Wednesday</td>\n",
       "    </tr>\n",
       "    <tr>\n",
       "      <th>2</th>\n",
       "      <td>Aaron,Petra L</td>\n",
       "      <td>ASSISTANT STATE'S ATTORNEY</td>\n",
       "      <td>A29005</td>\n",
       "      <td>States Attorneys Office</td>\n",
       "      <td>2006-09-25</td>\n",
       "      <td>68300.0</td>\n",
       "      <td>sept</td>\n",
       "      <td>2006</td>\n",
       "      <td>Monday</td>\n",
       "    </tr>\n",
       "    <tr>\n",
       "      <th>3</th>\n",
       "      <td>Abaineh,Yohannes T</td>\n",
       "      <td>EPIDEMIOLOGIST</td>\n",
       "      <td>A65026</td>\n",
       "      <td>HLTH-Health Department</td>\n",
       "      <td>2009-07-23</td>\n",
       "      <td>62000.0</td>\n",
       "      <td>july</td>\n",
       "      <td>2009</td>\n",
       "      <td>Thursday</td>\n",
       "    </tr>\n",
       "    <tr>\n",
       "      <th>4</th>\n",
       "      <td>Abbene,Anthony M</td>\n",
       "      <td>POLICE OFFICER TRAINEE</td>\n",
       "      <td>A99416</td>\n",
       "      <td>Police Department</td>\n",
       "      <td>2013-07-24</td>\n",
       "      <td>43999.0</td>\n",
       "      <td>july</td>\n",
       "      <td>2013</td>\n",
       "      <td>Wednesday</td>\n",
       "    </tr>\n",
       "  </tbody>\n",
       "</table>\n",
       "</div>"
      ],
      "text/plain": [
       "                 Name                       JobTitle AgencyID  \\\n",
       "0     Aaron,Keontae E                 AIDE BLUE CHIP   W02200   \n",
       "1    Aaron,Patricia G  Facilities/Office Services II   A03031   \n",
       "2       Aaron,Petra L     ASSISTANT STATE'S ATTORNEY   A29005   \n",
       "3  Abaineh,Yohannes T                 EPIDEMIOLOGIST   A65026   \n",
       "4    Abbene,Anthony M         POLICE OFFICER TRAINEE   A99416   \n",
       "\n",
       "                     Agency   HireDate  AnnualSalary Month_of_recruit  \\\n",
       "0            Youth Summer   2013-06-10       11310.0             june   \n",
       "1       OED-Employment Dev  1979-10-24       53428.0              oct   \n",
       "2  States Attorneys Office  2006-09-25       68300.0             sept   \n",
       "3   HLTH-Health Department  2009-07-23       62000.0             july   \n",
       "4        Police Department  2013-07-24       43999.0             july   \n",
       "\n",
       "   Year_of_recruit Day_of_recruit  \n",
       "0             2013         Monday  \n",
       "1             1979      Wednesday  \n",
       "2             2006         Monday  \n",
       "3             2009       Thursday  \n",
       "4             2013      Wednesday  "
      ]
     },
     "execution_count": 31,
     "metadata": {},
     "output_type": "execute_result"
    }
   ],
   "source": [
    "data.head(5)"
   ]
  },
  {
   "cell_type": "code",
   "execution_count": 32,
   "id": "a820084b",
   "metadata": {},
   "outputs": [
    {
     "data": {
      "text/plain": [
       "<AxesSubplot:xlabel='Day_of_recruit', ylabel='count'>"
      ]
     },
     "execution_count": 32,
     "metadata": {},
     "output_type": "execute_result"
    },
    {
     "data": {
      "image/png": "[encoded data removed]",
      "text/plain": [
       "<Figure size 864x432 with 1 Axes>"
      ]
     },
     "metadata": {},
     "output_type": "display_data"
    }
   ],
   "source": [
    "plt.figure(figsize=(12,6))\n",
    "sns.countplot(data['Day_of_recruit'],order=data['Day_of_recruit'].value_counts().index)"
   ]
  },
  {
   "cell_type": "markdown",
   "id": "183313f2",
   "metadata": {},
   "source": [
    "Conclusions till now\n",
    "\n",
    "1. Most of the recruitments are done after year 2000\n",
    "2. Most of the recruitments are done in the month of june\n",
    "3. Most of the recruitments are done on Monday (as seen in the above countplot)\n",
    "4. Maximum Salary paying Agency is \"Mayor's office\"\n",
    "5. State Attorneys are highly paid jobs in the trend \n",
    "6. Even when the recruitment has increased after year 2000 the salary pay has decreased.\n",
    "\n"
   ]
  },
  {
   "cell_type": "code",
   "execution_count": 33,
   "id": "85b2b435",
   "metadata": {},
   "outputs": [
    {
     "data": {
      "text/plain": [
       "54"
      ]
     },
     "execution_count": 33,
     "metadata": {},
     "output_type": "execute_result"
    }
   ],
   "source": [
    "data['Year_of_recruit'].nunique()"
   ]
  },
  {
   "cell_type": "code",
   "execution_count": 34,
   "id": "4636d7e0",
   "metadata": {},
   "outputs": [
    {
     "data": {
      "text/plain": [
       "<seaborn.axisgrid.FacetGrid at 0x2b795170070>"
      ]
     },
     "execution_count": 34,
     "metadata": {},
     "output_type": "execute_result"
    },
    {
     "data": {
      "text/plain": [
       "<Figure size 1152x576 with 0 Axes>"
      ]
     },
     "metadata": {},
     "output_type": "display_data"
    },
    {
     "data": {
      "image/png": "[encoded data removed]",
      "text/plain": [
       "<Figure size 360x360 with 1 Axes>"
      ]
     },
     "metadata": {},
     "output_type": "display_data"
    }
   ],
   "source": [
    "plt.figure(figsize=(16,8))\n",
    "sns.displot(data,x='AnnualSalary',kind='kde')"
   ]
  },
  {
   "cell_type": "code",
   "execution_count": 35,
   "id": "15647606",
   "metadata": {},
   "outputs": [
    {
     "data": {
      "text/plain": [
       "<AxesSubplot:xlabel='AnnualSalary'>"
      ]
     },
     "execution_count": 35,
     "metadata": {},
     "output_type": "execute_result"
    },
    {
     "data": {
      "image/png": "[encoded data removed]",
      "text/plain": [
       "<Figure size 432x288 with 1 Axes>"
      ]
     },
     "metadata": {},
     "output_type": "display_data"
    }
   ],
   "source": [
    "sns.boxplot(data.AnnualSalary)"
   ]
  },
  {
   "cell_type": "code",
   "execution_count": 36,
   "id": "8c569a4c",
   "metadata": {},
   "outputs": [
    {
     "data": {
      "text/plain": [
       "25"
      ]
     },
     "execution_count": 36,
     "metadata": {},
     "output_type": "execute_result"
    }
   ],
   "source": [
    "len(data[data['AnnualSalary']>140000])"
   ]
  },
  {
   "cell_type": "code",
   "execution_count": 37,
   "id": "37653c01",
   "metadata": {},
   "outputs": [],
   "source": [
    "#dropping the 25 outliers "
   ]
  },
  {
   "cell_type": "code",
   "execution_count": 38,
   "id": "00937b0e",
   "metadata": {},
   "outputs": [
    {
     "data": {
      "text/plain": [
       "<AxesSubplot:xlabel='AnnualSalary'>"
      ]
     },
     "execution_count": 38,
     "metadata": {},
     "output_type": "execute_result"
    },
    {
     "data": {
      "image/png": "[encoded data removed]",
      "text/plain": [
       "<Figure size 432x288 with 1 Axes>"
      ]
     },
     "metadata": {},
     "output_type": "display_data"
    }
   ],
   "source": [
    "data = data[data['AnnualSalary']<140000]\n",
    "sns.boxplot(data.AnnualSalary)"
   ]
  },
  {
   "cell_type": "code",
   "execution_count": 39,
   "id": "c77c61f5",
   "metadata": {},
   "outputs": [
    {
     "data": {
      "text/html": [
       "<div>\n",
       "<style scoped>\n",
       "    .dataframe tbody tr th:only-of-type {\n",
       "        vertical-align: middle;\n",
       "    }\n",
       "\n",
       "    .dataframe tbody tr th {\n",
       "        vertical-align: top;\n",
       "    }\n",
       "\n",
       "    .dataframe thead th {\n",
       "        text-align: right;\n",
       "    }\n",
       "</style>\n",
       "<table border=\"1\" class=\"dataframe\">\n",
       "  <thead>\n",
       "    <tr style=\"text-align: right;\">\n",
       "      <th></th>\n",
       "      <th>Name</th>\n",
       "      <th>JobTitle</th>\n",
       "      <th>AgencyID</th>\n",
       "      <th>Agency</th>\n",
       "      <th>HireDate</th>\n",
       "      <th>AnnualSalary</th>\n",
       "      <th>Month_of_recruit</th>\n",
       "      <th>Year_of_recruit</th>\n",
       "      <th>Day_of_recruit</th>\n",
       "    </tr>\n",
       "  </thead>\n",
       "  <tbody>\n",
       "    <tr>\n",
       "      <th>0</th>\n",
       "      <td>Aaron,Keontae E</td>\n",
       "      <td>AIDE BLUE CHIP</td>\n",
       "      <td>W02200</td>\n",
       "      <td>Youth Summer</td>\n",
       "      <td>2013-06-10</td>\n",
       "      <td>11310.0</td>\n",
       "      <td>june</td>\n",
       "      <td>2013</td>\n",
       "      <td>Monday</td>\n",
       "    </tr>\n",
       "    <tr>\n",
       "      <th>1</th>\n",
       "      <td>Aaron,Patricia G</td>\n",
       "      <td>Facilities/Office Services II</td>\n",
       "      <td>A03031</td>\n",
       "      <td>OED-Employment Dev</td>\n",
       "      <td>1979-10-24</td>\n",
       "      <td>53428.0</td>\n",
       "      <td>oct</td>\n",
       "      <td>1979</td>\n",
       "      <td>Wednesday</td>\n",
       "    </tr>\n",
       "    <tr>\n",
       "      <th>2</th>\n",
       "      <td>Aaron,Petra L</td>\n",
       "      <td>ASSISTANT STATE'S ATTORNEY</td>\n",
       "      <td>A29005</td>\n",
       "      <td>States Attorneys Office</td>\n",
       "      <td>2006-09-25</td>\n",
       "      <td>68300.0</td>\n",
       "      <td>sept</td>\n",
       "      <td>2006</td>\n",
       "      <td>Monday</td>\n",
       "    </tr>\n",
       "    <tr>\n",
       "      <th>3</th>\n",
       "      <td>Abaineh,Yohannes T</td>\n",
       "      <td>EPIDEMIOLOGIST</td>\n",
       "      <td>A65026</td>\n",
       "      <td>HLTH-Health Department</td>\n",
       "      <td>2009-07-23</td>\n",
       "      <td>62000.0</td>\n",
       "      <td>july</td>\n",
       "      <td>2009</td>\n",
       "      <td>Thursday</td>\n",
       "    </tr>\n",
       "    <tr>\n",
       "      <th>4</th>\n",
       "      <td>Abbene,Anthony M</td>\n",
       "      <td>POLICE OFFICER TRAINEE</td>\n",
       "      <td>A99416</td>\n",
       "      <td>Police Department</td>\n",
       "      <td>2013-07-24</td>\n",
       "      <td>43999.0</td>\n",
       "      <td>july</td>\n",
       "      <td>2013</td>\n",
       "      <td>Wednesday</td>\n",
       "    </tr>\n",
       "    <tr>\n",
       "      <th>...</th>\n",
       "      <td>...</td>\n",
       "      <td>...</td>\n",
       "      <td>...</td>\n",
       "      <td>...</td>\n",
       "      <td>...</td>\n",
       "      <td>...</td>\n",
       "      <td>...</td>\n",
       "      <td>...</td>\n",
       "      <td>...</td>\n",
       "    </tr>\n",
       "    <tr>\n",
       "      <th>18976</th>\n",
       "      <td>Zotamou,Jean Marie D</td>\n",
       "      <td>AIDE BLUE CHIP</td>\n",
       "      <td>W02235</td>\n",
       "      <td>Youth Summer</td>\n",
       "      <td>2014-05-21</td>\n",
       "      <td>11310.0</td>\n",
       "      <td>may</td>\n",
       "      <td>2014</td>\n",
       "      <td>Wednesday</td>\n",
       "    </tr>\n",
       "    <tr>\n",
       "      <th>18977</th>\n",
       "      <td>Zotamou,Pivot D</td>\n",
       "      <td>AIDE BLUE CHIP</td>\n",
       "      <td>W02629</td>\n",
       "      <td>Youth Summer</td>\n",
       "      <td>2014-05-21</td>\n",
       "      <td>11310.0</td>\n",
       "      <td>may</td>\n",
       "      <td>2014</td>\n",
       "      <td>Wednesday</td>\n",
       "    </tr>\n",
       "    <tr>\n",
       "      <th>18978</th>\n",
       "      <td>Zovistoski,Zachary D</td>\n",
       "      <td>POLICE OFFICER TRAINEE</td>\n",
       "      <td>A99416</td>\n",
       "      <td>Police Department</td>\n",
       "      <td>2013-12-17</td>\n",
       "      <td>43999.0</td>\n",
       "      <td>dec</td>\n",
       "      <td>2013</td>\n",
       "      <td>Tuesday</td>\n",
       "    </tr>\n",
       "    <tr>\n",
       "      <th>18979</th>\n",
       "      <td>Zubyk,Stanislav T</td>\n",
       "      <td>POLICE OFFICER</td>\n",
       "      <td>A99262</td>\n",
       "      <td>Police Department</td>\n",
       "      <td>2013-01-23</td>\n",
       "      <td>44104.0</td>\n",
       "      <td>jan</td>\n",
       "      <td>2013</td>\n",
       "      <td>Wednesday</td>\n",
       "    </tr>\n",
       "    <tr>\n",
       "      <th>18980</th>\n",
       "      <td>Zukowski,Charles J</td>\n",
       "      <td>Waste Water Tech Supv I Pump</td>\n",
       "      <td>A50206</td>\n",
       "      <td>DPW-Water &amp; Waste Water</td>\n",
       "      <td>1979-10-15</td>\n",
       "      <td>53568.0</td>\n",
       "      <td>oct</td>\n",
       "      <td>1979</td>\n",
       "      <td>Monday</td>\n",
       "    </tr>\n",
       "  </tbody>\n",
       "</table>\n",
       "<p>18955 rows × 9 columns</p>\n",
       "</div>"
      ],
      "text/plain": [
       "                       Name                       JobTitle AgencyID  \\\n",
       "0           Aaron,Keontae E                 AIDE BLUE CHIP   W02200   \n",
       "1          Aaron,Patricia G  Facilities/Office Services II   A03031   \n",
       "2             Aaron,Petra L     ASSISTANT STATE'S ATTORNEY   A29005   \n",
       "3        Abaineh,Yohannes T                 EPIDEMIOLOGIST   A65026   \n",
       "4          Abbene,Anthony M         POLICE OFFICER TRAINEE   A99416   \n",
       "...                     ...                            ...      ...   \n",
       "18976  Zotamou,Jean Marie D                 AIDE BLUE CHIP   W02235   \n",
       "18977       Zotamou,Pivot D                 AIDE BLUE CHIP   W02629   \n",
       "18978  Zovistoski,Zachary D         POLICE OFFICER TRAINEE   A99416   \n",
       "18979     Zubyk,Stanislav T                 POLICE OFFICER   A99262   \n",
       "18980    Zukowski,Charles J   Waste Water Tech Supv I Pump   A50206   \n",
       "\n",
       "                         Agency   HireDate  AnnualSalary Month_of_recruit  \\\n",
       "0                Youth Summer   2013-06-10       11310.0             june   \n",
       "1           OED-Employment Dev  1979-10-24       53428.0              oct   \n",
       "2      States Attorneys Office  2006-09-25       68300.0             sept   \n",
       "3       HLTH-Health Department  2009-07-23       62000.0             july   \n",
       "4            Police Department  2013-07-24       43999.0             july   \n",
       "...                         ...        ...           ...              ...   \n",
       "18976            Youth Summer   2014-05-21       11310.0              may   \n",
       "18977             Youth Summer  2014-05-21       11310.0              may   \n",
       "18978        Police Department  2013-12-17       43999.0              dec   \n",
       "18979        Police Department  2013-01-23       44104.0              jan   \n",
       "18980  DPW-Water & Waste Water  1979-10-15       53568.0              oct   \n",
       "\n",
       "       Year_of_recruit Day_of_recruit  \n",
       "0                 2013         Monday  \n",
       "1                 1979      Wednesday  \n",
       "2                 2006         Monday  \n",
       "3                 2009       Thursday  \n",
       "4                 2013      Wednesday  \n",
       "...                ...            ...  \n",
       "18976             2014      Wednesday  \n",
       "18977             2014      Wednesday  \n",
       "18978             2013        Tuesday  \n",
       "18979             2013      Wednesday  \n",
       "18980             1979         Monday  \n",
       "\n",
       "[18955 rows x 9 columns]"
      ]
     },
     "execution_count": 39,
     "metadata": {},
     "output_type": "execute_result"
    }
   ],
   "source": [
    "data"
   ]
  },
  {
   "cell_type": "markdown",
   "id": "c400b089",
   "metadata": {},
   "source": [
    "Top 10 Jobs based on hiring"
   ]
  },
  {
   "cell_type": "code",
   "execution_count": 40,
   "id": "829276c3",
   "metadata": {},
   "outputs": [
    {
     "data": {
      "text/plain": [
       "<AxesSubplot:>"
      ]
     },
     "execution_count": 40,
     "metadata": {},
     "output_type": "execute_result"
    },
    {
     "data": {
      "image/png": "[encoded data removed]",
      "text/plain": [
       "<Figure size 432x288 with 1 Axes>"
      ]
     },
     "metadata": {},
     "output_type": "display_data"
    }
   ],
   "source": [
    "data['JobTitle'].value_counts().nlargest(10).plot(kind='bar',cmap='Greens_r')"
   ]
  },
  {
   "cell_type": "code",
   "execution_count": 41,
   "id": "5eefacc8",
   "metadata": {},
   "outputs": [
    {
     "data": {
      "text/plain": [
       "<AxesSubplot:>"
      ]
     },
     "execution_count": 41,
     "metadata": {},
     "output_type": "execute_result"
    },
    {
     "data": {
      "image/png": "[encoded data removed]",
      "text/plain": [
       "<Figure size 432x288 with 1 Axes>"
      ]
     },
     "metadata": {},
     "output_type": "display_data"
    }
   ],
   "source": [
    "data['Agency'].value_counts().nlargest(10).plot(kind='bar')"
   ]
  },
  {
   "cell_type": "code",
   "execution_count": 42,
   "id": "b2b569a1",
   "metadata": {},
   "outputs": [
    {
     "data": {
      "text/plain": [
       "<AxesSubplot:>"
      ]
     },
     "execution_count": 42,
     "metadata": {},
     "output_type": "execute_result"
    },
    {
     "data": {
      "image/png": "[encoded data removed]",
      "text/plain": [
       "<Figure size 432x288 with 1 Axes>"
      ]
     },
     "metadata": {},
     "output_type": "display_data"
    }
   ],
   "source": [
    "data['AgencyID'].value_counts().nlargest(10).plot(kind='bar',cmap='viridis')"
   ]
  },
  {
   "cell_type": "code",
   "execution_count": 43,
   "id": "3379e137",
   "metadata": {},
   "outputs": [],
   "source": [
    "max_jobs = data[data['AnnualSalary'] > data['AnnualSalary'].mean()]"
   ]
  },
  {
   "cell_type": "code",
   "execution_count": 44,
   "id": "b0f715e7",
   "metadata": {},
   "outputs": [
    {
     "data": {
      "text/plain": [
       "<AxesSubplot:xlabel='JobTitle'>"
      ]
     },
     "execution_count": 44,
     "metadata": {},
     "output_type": "execute_result"
    },
    {
     "data": {
      "image/png": "[encoded data removed]",
      "text/plain": [
       "<Figure size 432x288 with 1 Axes>"
      ]
     },
     "metadata": {},
     "output_type": "display_data"
    }
   ],
   "source": [
    "max_jobs.groupby('JobTitle')['AnnualSalary'].mean().nlargest(10).plot(kind='bar')"
   ]
  },
  {
   "cell_type": "markdown",
   "id": "320b58e6",
   "metadata": {},
   "source": [
    "===========Feature engineering part=============="
   ]
  },
  {
   "cell_type": "code",
   "execution_count": 45,
   "id": "3a9fc82c",
   "metadata": {},
   "outputs": [
    {
     "data": {
      "text/html": [
       "<div>\n",
       "<style scoped>\n",
       "    .dataframe tbody tr th:only-of-type {\n",
       "        vertical-align: middle;\n",
       "    }\n",
       "\n",
       "    .dataframe tbody tr th {\n",
       "        vertical-align: top;\n",
       "    }\n",
       "\n",
       "    .dataframe thead th {\n",
       "        text-align: right;\n",
       "    }\n",
       "</style>\n",
       "<table border=\"1\" class=\"dataframe\">\n",
       "  <thead>\n",
       "    <tr style=\"text-align: right;\">\n",
       "      <th></th>\n",
       "      <th>Name</th>\n",
       "      <th>JobTitle</th>\n",
       "      <th>AgencyID</th>\n",
       "      <th>Agency</th>\n",
       "      <th>HireDate</th>\n",
       "      <th>AnnualSalary</th>\n",
       "      <th>Month_of_recruit</th>\n",
       "      <th>Year_of_recruit</th>\n",
       "      <th>Day_of_recruit</th>\n",
       "    </tr>\n",
       "  </thead>\n",
       "  <tbody>\n",
       "    <tr>\n",
       "      <th>0</th>\n",
       "      <td>Aaron,Keontae E</td>\n",
       "      <td>11313.967200</td>\n",
       "      <td>W02200</td>\n",
       "      <td>Youth Summer</td>\n",
       "      <td>2013-06-10</td>\n",
       "      <td>11310.0</td>\n",
       "      <td>june</td>\n",
       "      <td>2013</td>\n",
       "      <td>Monday</td>\n",
       "    </tr>\n",
       "    <tr>\n",
       "      <th>1</th>\n",
       "      <td>Aaron,Patricia G</td>\n",
       "      <td>47443.500000</td>\n",
       "      <td>A03031</td>\n",
       "      <td>OED-Employment Dev</td>\n",
       "      <td>1979-10-24</td>\n",
       "      <td>53428.0</td>\n",
       "      <td>oct</td>\n",
       "      <td>1979</td>\n",
       "      <td>Wednesday</td>\n",
       "    </tr>\n",
       "    <tr>\n",
       "      <th>2</th>\n",
       "      <td>Aaron,Petra L</td>\n",
       "      <td>69750.666667</td>\n",
       "      <td>A29005</td>\n",
       "      <td>States Attorneys Office</td>\n",
       "      <td>2006-09-25</td>\n",
       "      <td>68300.0</td>\n",
       "      <td>sept</td>\n",
       "      <td>2006</td>\n",
       "      <td>Monday</td>\n",
       "    </tr>\n",
       "    <tr>\n",
       "      <th>3</th>\n",
       "      <td>Abaineh,Yohannes T</td>\n",
       "      <td>57940.000000</td>\n",
       "      <td>A65026</td>\n",
       "      <td>HLTH-Health Department</td>\n",
       "      <td>2009-07-23</td>\n",
       "      <td>62000.0</td>\n",
       "      <td>july</td>\n",
       "      <td>2009</td>\n",
       "      <td>Thursday</td>\n",
       "    </tr>\n",
       "    <tr>\n",
       "      <th>4</th>\n",
       "      <td>Abbene,Anthony M</td>\n",
       "      <td>44531.160494</td>\n",
       "      <td>A99416</td>\n",
       "      <td>Police Department</td>\n",
       "      <td>2013-07-24</td>\n",
       "      <td>43999.0</td>\n",
       "      <td>july</td>\n",
       "      <td>2013</td>\n",
       "      <td>Wednesday</td>\n",
       "    </tr>\n",
       "    <tr>\n",
       "      <th>...</th>\n",
       "      <td>...</td>\n",
       "      <td>...</td>\n",
       "      <td>...</td>\n",
       "      <td>...</td>\n",
       "      <td>...</td>\n",
       "      <td>...</td>\n",
       "      <td>...</td>\n",
       "      <td>...</td>\n",
       "      <td>...</td>\n",
       "    </tr>\n",
       "    <tr>\n",
       "      <th>18976</th>\n",
       "      <td>Zotamou,Jean Marie D</td>\n",
       "      <td>11313.967200</td>\n",
       "      <td>W02235</td>\n",
       "      <td>Youth Summer</td>\n",
       "      <td>2014-05-21</td>\n",
       "      <td>11310.0</td>\n",
       "      <td>may</td>\n",
       "      <td>2014</td>\n",
       "      <td>Wednesday</td>\n",
       "    </tr>\n",
       "    <tr>\n",
       "      <th>18977</th>\n",
       "      <td>Zotamou,Pivot D</td>\n",
       "      <td>11313.967200</td>\n",
       "      <td>W02629</td>\n",
       "      <td>Youth Summer</td>\n",
       "      <td>2014-05-21</td>\n",
       "      <td>11310.0</td>\n",
       "      <td>may</td>\n",
       "      <td>2014</td>\n",
       "      <td>Wednesday</td>\n",
       "    </tr>\n",
       "    <tr>\n",
       "      <th>18978</th>\n",
       "      <td>Zovistoski,Zachary D</td>\n",
       "      <td>44531.160494</td>\n",
       "      <td>A99416</td>\n",
       "      <td>Police Department</td>\n",
       "      <td>2013-12-17</td>\n",
       "      <td>43999.0</td>\n",
       "      <td>dec</td>\n",
       "      <td>2013</td>\n",
       "      <td>Tuesday</td>\n",
       "    </tr>\n",
       "    <tr>\n",
       "      <th>18979</th>\n",
       "      <td>Zubyk,Stanislav T</td>\n",
       "      <td>60588.139335</td>\n",
       "      <td>A99262</td>\n",
       "      <td>Police Department</td>\n",
       "      <td>2013-01-23</td>\n",
       "      <td>44104.0</td>\n",
       "      <td>jan</td>\n",
       "      <td>2013</td>\n",
       "      <td>Wednesday</td>\n",
       "    </tr>\n",
       "    <tr>\n",
       "      <th>18980</th>\n",
       "      <td>Zukowski,Charles J</td>\n",
       "      <td>53368.428571</td>\n",
       "      <td>A50206</td>\n",
       "      <td>DPW-Water &amp; Waste Water</td>\n",
       "      <td>1979-10-15</td>\n",
       "      <td>53568.0</td>\n",
       "      <td>oct</td>\n",
       "      <td>1979</td>\n",
       "      <td>Monday</td>\n",
       "    </tr>\n",
       "  </tbody>\n",
       "</table>\n",
       "<p>18955 rows × 9 columns</p>\n",
       "</div>"
      ],
      "text/plain": [
       "                       Name      JobTitle AgencyID                    Agency  \\\n",
       "0           Aaron,Keontae E  11313.967200   W02200            Youth Summer     \n",
       "1          Aaron,Patricia G  47443.500000   A03031       OED-Employment Dev    \n",
       "2             Aaron,Petra L  69750.666667   A29005  States Attorneys Office    \n",
       "3        Abaineh,Yohannes T  57940.000000   A65026   HLTH-Health Department    \n",
       "4          Abbene,Anthony M  44531.160494   A99416        Police Department    \n",
       "...                     ...           ...      ...                       ...   \n",
       "18976  Zotamou,Jean Marie D  11313.967200   W02235            Youth Summer     \n",
       "18977       Zotamou,Pivot D  11313.967200   W02629             Youth Summer    \n",
       "18978  Zovistoski,Zachary D  44531.160494   A99416        Police Department    \n",
       "18979     Zubyk,Stanislav T  60588.139335   A99262        Police Department    \n",
       "18980    Zukowski,Charles J  53368.428571   A50206  DPW-Water & Waste Water    \n",
       "\n",
       "        HireDate  AnnualSalary Month_of_recruit  Year_of_recruit  \\\n",
       "0     2013-06-10       11310.0             june             2013   \n",
       "1     1979-10-24       53428.0              oct             1979   \n",
       "2     2006-09-25       68300.0             sept             2006   \n",
       "3     2009-07-23       62000.0             july             2009   \n",
       "4     2013-07-24       43999.0             july             2013   \n",
       "...          ...           ...              ...              ...   \n",
       "18976 2014-05-21       11310.0              may             2014   \n",
       "18977 2014-05-21       11310.0              may             2014   \n",
       "18978 2013-12-17       43999.0              dec             2013   \n",
       "18979 2013-01-23       44104.0              jan             2013   \n",
       "18980 1979-10-15       53568.0              oct             1979   \n",
       "\n",
       "      Day_of_recruit  \n",
       "0             Monday  \n",
       "1          Wednesday  \n",
       "2             Monday  \n",
       "3           Thursday  \n",
       "4          Wednesday  \n",
       "...              ...  \n",
       "18976      Wednesday  \n",
       "18977      Wednesday  \n",
       "18978        Tuesday  \n",
       "18979      Wednesday  \n",
       "18980         Monday  \n",
       "\n",
       "[18955 rows x 9 columns]"
      ]
     },
     "execution_count": 45,
     "metadata": {},
     "output_type": "execute_result"
    }
   ],
   "source": [
    "data['JobTitle'] = data['JobTitle'].map(data.groupby('JobTitle')['AnnualSalary'].mean())\n",
    "data"
   ]
  },
  {
   "cell_type": "markdown",
   "id": "0d7af71b",
   "metadata": {},
   "source": [
    " Similarly we can do mean mapping to other object columns"
   ]
  },
  {
   "cell_type": "code",
   "execution_count": 46,
   "id": "bf268694",
   "metadata": {},
   "outputs": [
    {
     "name": "stdout",
     "output_type": "stream",
     "text": [
      "<class 'pandas.core.frame.DataFrame'>\n",
      "Int64Index: 18955 entries, 0 to 18980\n",
      "Data columns (total 9 columns):\n",
      " #   Column            Non-Null Count  Dtype         \n",
      "---  ------            --------------  -----         \n",
      " 0   Name              18955 non-null  object        \n",
      " 1   JobTitle          18955 non-null  float64       \n",
      " 2   AgencyID          18955 non-null  float64       \n",
      " 3   Agency            18955 non-null  object        \n",
      " 4   HireDate          18955 non-null  datetime64[ns]\n",
      " 5   AnnualSalary      18955 non-null  float64       \n",
      " 6   Month_of_recruit  18955 non-null  object        \n",
      " 7   Year_of_recruit   18955 non-null  int64         \n",
      " 8   Day_of_recruit    18955 non-null  object        \n",
      "dtypes: datetime64[ns](1), float64(3), int64(1), object(4)\n",
      "memory usage: 1.4+ MB\n"
     ]
    }
   ],
   "source": [
    "data['AgencyID'] = data['AgencyID'].map(data.groupby('AgencyID')['AnnualSalary'].mean())\n",
    "data.info()"
   ]
  },
  {
   "cell_type": "code",
   "execution_count": 47,
   "id": "662d0032",
   "metadata": {},
   "outputs": [
    {
     "name": "stdout",
     "output_type": "stream",
     "text": [
      "<class 'pandas.core.frame.DataFrame'>\n",
      "Int64Index: 18955 entries, 0 to 18980\n",
      "Data columns (total 9 columns):\n",
      " #   Column            Non-Null Count  Dtype         \n",
      "---  ------            --------------  -----         \n",
      " 0   Name              18955 non-null  object        \n",
      " 1   JobTitle          18955 non-null  float64       \n",
      " 2   AgencyID          18955 non-null  float64       \n",
      " 3   Agency            18955 non-null  float64       \n",
      " 4   HireDate          18955 non-null  datetime64[ns]\n",
      " 5   AnnualSalary      18955 non-null  float64       \n",
      " 6   Month_of_recruit  18955 non-null  object        \n",
      " 7   Year_of_recruit   18955 non-null  int64         \n",
      " 8   Day_of_recruit    18955 non-null  object        \n",
      "dtypes: datetime64[ns](1), float64(4), int64(1), object(3)\n",
      "memory usage: 1.4+ MB\n"
     ]
    }
   ],
   "source": [
    "data['Agency'] = data['Agency'].map(data.groupby('Agency')['AnnualSalary'].mean())\n",
    "data.info()"
   ]
  },
  {
   "cell_type": "markdown",
   "id": "f5e62941",
   "metadata": {},
   "source": [
    "Dropping the columns we dont need for the model "
   ]
  },
  {
   "cell_type": "code",
   "execution_count": 48,
   "id": "404b0165",
   "metadata": {},
   "outputs": [
    {
     "data": {
      "text/html": [
       "<div>\n",
       "<style scoped>\n",
       "    .dataframe tbody tr th:only-of-type {\n",
       "        vertical-align: middle;\n",
       "    }\n",
       "\n",
       "    .dataframe tbody tr th {\n",
       "        vertical-align: top;\n",
       "    }\n",
       "\n",
       "    .dataframe thead th {\n",
       "        text-align: right;\n",
       "    }\n",
       "</style>\n",
       "<table border=\"1\" class=\"dataframe\">\n",
       "  <thead>\n",
       "    <tr style=\"text-align: right;\">\n",
       "      <th></th>\n",
       "      <th>JobTitle</th>\n",
       "      <th>AgencyID</th>\n",
       "      <th>Agency</th>\n",
       "      <th>AnnualSalary</th>\n",
       "      <th>Month_of_recruit</th>\n",
       "      <th>Year_of_recruit</th>\n",
       "    </tr>\n",
       "  </thead>\n",
       "  <tbody>\n",
       "    <tr>\n",
       "      <th>0</th>\n",
       "      <td>11313.967200</td>\n",
       "      <td>11310.000000</td>\n",
       "      <td>11310.270645</td>\n",
       "      <td>11310.0</td>\n",
       "      <td>june</td>\n",
       "      <td>2013</td>\n",
       "    </tr>\n",
       "    <tr>\n",
       "      <th>1</th>\n",
       "      <td>47443.500000</td>\n",
       "      <td>46667.000000</td>\n",
       "      <td>51495.424242</td>\n",
       "      <td>53428.0</td>\n",
       "      <td>oct</td>\n",
       "      <td>1979</td>\n",
       "    </tr>\n",
       "    <tr>\n",
       "      <th>2</th>\n",
       "      <td>69750.666667</td>\n",
       "      <td>65926.133333</td>\n",
       "      <td>64874.560224</td>\n",
       "      <td>68300.0</td>\n",
       "      <td>sept</td>\n",
       "      <td>2006</td>\n",
       "    </tr>\n",
       "    <tr>\n",
       "      <th>3</th>\n",
       "      <td>57940.000000</td>\n",
       "      <td>48071.851064</td>\n",
       "      <td>39980.900360</td>\n",
       "      <td>62000.0</td>\n",
       "      <td>july</td>\n",
       "      <td>2009</td>\n",
       "    </tr>\n",
       "    <tr>\n",
       "      <th>4</th>\n",
       "      <td>44531.160494</td>\n",
       "      <td>44012.307229</td>\n",
       "      <td>61575.070137</td>\n",
       "      <td>43999.0</td>\n",
       "      <td>july</td>\n",
       "      <td>2013</td>\n",
       "    </tr>\n",
       "    <tr>\n",
       "      <th>...</th>\n",
       "      <td>...</td>\n",
       "      <td>...</td>\n",
       "      <td>...</td>\n",
       "      <td>...</td>\n",
       "      <td>...</td>\n",
       "      <td>...</td>\n",
       "    </tr>\n",
       "    <tr>\n",
       "      <th>18976</th>\n",
       "      <td>11313.967200</td>\n",
       "      <td>11310.000000</td>\n",
       "      <td>11310.270645</td>\n",
       "      <td>11310.0</td>\n",
       "      <td>may</td>\n",
       "      <td>2014</td>\n",
       "    </tr>\n",
       "    <tr>\n",
       "      <th>18977</th>\n",
       "      <td>11313.967200</td>\n",
       "      <td>11310.000000</td>\n",
       "      <td>11346.315789</td>\n",
       "      <td>11310.0</td>\n",
       "      <td>may</td>\n",
       "      <td>2014</td>\n",
       "    </tr>\n",
       "    <tr>\n",
       "      <th>18978</th>\n",
       "      <td>44531.160494</td>\n",
       "      <td>44012.307229</td>\n",
       "      <td>61575.070137</td>\n",
       "      <td>43999.0</td>\n",
       "      <td>dec</td>\n",
       "      <td>2013</td>\n",
       "    </tr>\n",
       "    <tr>\n",
       "      <th>18979</th>\n",
       "      <td>60588.139335</td>\n",
       "      <td>60203.340426</td>\n",
       "      <td>61575.070137</td>\n",
       "      <td>44104.0</td>\n",
       "      <td>jan</td>\n",
       "      <td>2013</td>\n",
       "    </tr>\n",
       "    <tr>\n",
       "      <th>18980</th>\n",
       "      <td>53368.428571</td>\n",
       "      <td>42407.562500</td>\n",
       "      <td>42565.513078</td>\n",
       "      <td>53568.0</td>\n",
       "      <td>oct</td>\n",
       "      <td>1979</td>\n",
       "    </tr>\n",
       "  </tbody>\n",
       "</table>\n",
       "<p>18955 rows × 6 columns</p>\n",
       "</div>"
      ],
      "text/plain": [
       "           JobTitle      AgencyID        Agency  AnnualSalary  \\\n",
       "0      11313.967200  11310.000000  11310.270645       11310.0   \n",
       "1      47443.500000  46667.000000  51495.424242       53428.0   \n",
       "2      69750.666667  65926.133333  64874.560224       68300.0   \n",
       "3      57940.000000  48071.851064  39980.900360       62000.0   \n",
       "4      44531.160494  44012.307229  61575.070137       43999.0   \n",
       "...             ...           ...           ...           ...   \n",
       "18976  11313.967200  11310.000000  11310.270645       11310.0   \n",
       "18977  11313.967200  11310.000000  11346.315789       11310.0   \n",
       "18978  44531.160494  44012.307229  61575.070137       43999.0   \n",
       "18979  60588.139335  60203.340426  61575.070137       44104.0   \n",
       "18980  53368.428571  42407.562500  42565.513078       53568.0   \n",
       "\n",
       "      Month_of_recruit  Year_of_recruit  \n",
       "0                 june             2013  \n",
       "1                  oct             1979  \n",
       "2                 sept             2006  \n",
       "3                 july             2009  \n",
       "4                 july             2013  \n",
       "...                ...              ...  \n",
       "18976              may             2014  \n",
       "18977              may             2014  \n",
       "18978              dec             2013  \n",
       "18979              jan             2013  \n",
       "18980              oct             1979  \n",
       "\n",
       "[18955 rows x 6 columns]"
      ]
     },
     "execution_count": 48,
     "metadata": {},
     "output_type": "execute_result"
    }
   ],
   "source": [
    "data = data.drop(['HireDate','Name','Day_of_recruit'],axis=1)\n",
    "data"
   ]
  },
  {
   "cell_type": "code",
   "execution_count": 49,
   "id": "399ac461",
   "metadata": {},
   "outputs": [],
   "source": [
    "data['Month_of_recruit'] = data['Month_of_recruit'].map({'jan':1,'feb':2,'march':3,'april':4,'may':5,'june':6,'july':7,'Aug':8,'sept':9,'oct':10,'nov':11,'dec':12})"
   ]
  },
  {
   "cell_type": "code",
   "execution_count": 50,
   "id": "a561df9f",
   "metadata": {},
   "outputs": [
    {
     "name": "stdout",
     "output_type": "stream",
     "text": [
      "<class 'pandas.core.frame.DataFrame'>\n",
      "Int64Index: 18955 entries, 0 to 18980\n",
      "Data columns (total 6 columns):\n",
      " #   Column            Non-Null Count  Dtype  \n",
      "---  ------            --------------  -----  \n",
      " 0   JobTitle          18955 non-null  float64\n",
      " 1   AgencyID          18955 non-null  float64\n",
      " 2   Agency            18955 non-null  float64\n",
      " 3   AnnualSalary      18955 non-null  float64\n",
      " 4   Month_of_recruit  18955 non-null  int64  \n",
      " 5   Year_of_recruit   18955 non-null  int64  \n",
      "dtypes: float64(4), int64(2)\n",
      "memory usage: 1.0 MB\n"
     ]
    }
   ],
   "source": [
    "data.info()"
   ]
  },
  {
   "cell_type": "code",
   "execution_count": 51,
   "id": "37c7da2a",
   "metadata": {},
   "outputs": [],
   "source": [
    "data['Month_of_recruit'] = data['Month_of_recruit'].astype(float)"
   ]
  },
  {
   "cell_type": "markdown",
   "id": "6aba4ef9",
   "metadata": {},
   "source": [
    "\n",
    "Now the data is ready for split and fit to model"
   ]
  },
  {
   "cell_type": "code",
   "execution_count": 52,
   "id": "de0bdb2a",
   "metadata": {},
   "outputs": [],
   "source": [
    "train ,test = train_test_split(data,train_size=0.7,random_state=25)"
   ]
  },
  {
   "cell_type": "code",
   "execution_count": 53,
   "id": "20b7a29f",
   "metadata": {},
   "outputs": [
    {
     "data": {
      "text/plain": [
       "(13268, 6)"
      ]
     },
     "execution_count": 53,
     "metadata": {},
     "output_type": "execute_result"
    }
   ],
   "source": [
    "train.shape"
   ]
  },
  {
   "cell_type": "code",
   "execution_count": 54,
   "id": "5f4f6487",
   "metadata": {},
   "outputs": [],
   "source": [
    "y_train = train.pop('AnnualSalary')\n",
    "x_train = train\n",
    "y_test = test.pop('AnnualSalary')\n",
    "x_test = test"
   ]
  },
  {
   "cell_type": "markdown",
   "id": "c877e811",
   "metadata": {},
   "source": [
    "We need to scale the train data to avoid bias\n"
   ]
  },
  {
   "cell_type": "code",
   "execution_count": 55,
   "id": "2282a9ce",
   "metadata": {},
   "outputs": [],
   "source": [
    "from sklearn.preprocessing import StandardScaler\n",
    "scaler = StandardScaler()\n"
   ]
  },
  {
   "cell_type": "code",
   "execution_count": 56,
   "id": "95488708",
   "metadata": {},
   "outputs": [],
   "source": [
    "x_train[x_train.columns] = scaler.fit_transform(x_train[x_train.columns])\n",
    "x_test[x_test.columns] = scaler.fit_transform(x_test[x_test.columns])"
   ]
  },
  {
   "cell_type": "markdown",
   "id": "6c0faf19",
   "metadata": {},
   "source": [
    "==================Now fitting the model===================== "
   ]
  },
  {
   "cell_type": "code",
   "execution_count": 57,
   "id": "6019f0c4",
   "metadata": {},
   "outputs": [],
   "source": [
    "linear = LinearRegression()\n",
    "model = linear.fit(x_train,y_train)"
   ]
  },
  {
   "cell_type": "code",
   "execution_count": 58,
   "id": "ef8e0362",
   "metadata": {},
   "outputs": [
    {
     "data": {
      "text/plain": [
       "0.9646861930281927"
      ]
     },
     "execution_count": 58,
     "metadata": {},
     "output_type": "execute_result"
    }
   ],
   "source": [
    "model.score(x_train,y_train)"
   ]
  },
  {
   "cell_type": "markdown",
   "id": "d94d088c",
   "metadata": {},
   "source": [
    "96 % accuracy over train data\n",
    "\n",
    "Lets check for test data now"
   ]
  },
  {
   "cell_type": "code",
   "execution_count": 59,
   "id": "2cfa24fd",
   "metadata": {},
   "outputs": [],
   "source": [
    "y_predicted = model.predict(x_test)"
   ]
  },
  {
   "cell_type": "code",
   "execution_count": 60,
   "id": "7036154d",
   "metadata": {},
   "outputs": [
    {
     "data": {
      "text/plain": [
       "96.53658675013685"
      ]
     },
     "execution_count": 60,
     "metadata": {},
     "output_type": "execute_result"
    }
   ],
   "source": [
    "from sklearn.metrics import r2_score\n",
    "(r2_score(y_predicted,y_test))*100"
   ]
  },
  {
   "cell_type": "markdown",
   "id": "1b275428",
   "metadata": {},
   "source": [
    "96 % accuracy over test data as well\n"
   ]
  },
  {
   "cell_type": "markdown",
   "id": "5c2cf442",
   "metadata": {},
   "source": [
    "\n",
    "\n",
    "\n",
    "=\n",
    "model equation :\n"
   ]
  },
  {
   "cell_type": "code",
   "execution_count": 61,
   "id": "1ecb1281",
   "metadata": {},
   "outputs": [
    {
     "data": {
      "text/plain": [
       "'39781.69809767863 + 22101.032977053583 * JobTitle + 3004.9715137772373 * AgencyID + -1847.9628757116845 * Agency + -136.0601445780033 * Month_of_recruit + -2093.4663431566437 * Year_of_recruit'"
      ]
     },
     "execution_count": 61,
     "metadata": {},
     "output_type": "execute_result"
    }
   ],
   "source": [
    "eq = str(model.intercept_)\n",
    "for i in range(len(model.coef_)):\n",
    "    eq = eq + ' + ' + str(model.coef_[i])+' * '+str(x_train.columns[i])\n",
    "eq    "
   ]
  },
  {
   "cell_type": "markdown",
   "id": "a301e1f7",
   "metadata": {},
   "source": [
    "# END OF ANALYSIS PROJECT"
   ]
  }
 ],
 "metadata": {
  "kernelspec": {
   "display_name": "Python 3 (ipykernel)",
   "language": "python",
   "name": "python3"
  },
  "language_info": {
   "codemirror_mode": {
    "name": "ipython",
    "version": 3
   },
   "file_extension": ".py",
   "mimetype": "text/x-python",
   "name": "python",
   "nbconvert_exporter": "python",
   "pygments_lexer": "ipython3",
   "version": "3.9.12"
  }
 },
 "nbformat": 4,
 "nbformat_minor": 5
}

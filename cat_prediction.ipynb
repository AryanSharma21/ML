{
 "cells": [
  {
   "cell_type": "code",
   "execution_count": 1,
   "id": "e78266fc",
   "metadata": {},
   "outputs": [],
   "source": [
    "import pandas as pd \n",
    "import numpy as np \n",
    "from sklearn.neighbors import KNeighborsClassifier\n",
    "from matplotlib import pyplot as plt\n",
    "import seaborn as sb"
   ]
  },
  {
   "cell_type": "code",
   "execution_count": 2,
   "id": "1fb85370",
   "metadata": {},
   "outputs": [
    {
     "data": {
      "text/html": [
       "<div>\n",
       "<style scoped>\n",
       "    .dataframe tbody tr th:only-of-type {\n",
       "        vertical-align: middle;\n",
       "    }\n",
       "\n",
       "    .dataframe tbody tr th {\n",
       "        vertical-align: top;\n",
       "    }\n",
       "\n",
       "    .dataframe thead th {\n",
       "        text-align: right;\n",
       "    }\n",
       "</style>\n",
       "<table border=\"1\" class=\"dataframe\">\n",
       "  <thead>\n",
       "    <tr style=\"text-align: right;\">\n",
       "      <th></th>\n",
       "      <th>Gender</th>\n",
       "      <th>Height</th>\n",
       "      <th>Weight</th>\n",
       "      <th>Index</th>\n",
       "    </tr>\n",
       "  </thead>\n",
       "  <tbody>\n",
       "    <tr>\n",
       "      <th>0</th>\n",
       "      <td>Male</td>\n",
       "      <td>174</td>\n",
       "      <td>96</td>\n",
       "      <td>4</td>\n",
       "    </tr>\n",
       "    <tr>\n",
       "      <th>1</th>\n",
       "      <td>Male</td>\n",
       "      <td>189</td>\n",
       "      <td>87</td>\n",
       "      <td>2</td>\n",
       "    </tr>\n",
       "    <tr>\n",
       "      <th>2</th>\n",
       "      <td>Female</td>\n",
       "      <td>185</td>\n",
       "      <td>110</td>\n",
       "      <td>4</td>\n",
       "    </tr>\n",
       "    <tr>\n",
       "      <th>3</th>\n",
       "      <td>Female</td>\n",
       "      <td>195</td>\n",
       "      <td>104</td>\n",
       "      <td>3</td>\n",
       "    </tr>\n",
       "    <tr>\n",
       "      <th>4</th>\n",
       "      <td>Male</td>\n",
       "      <td>149</td>\n",
       "      <td>61</td>\n",
       "      <td>3</td>\n",
       "    </tr>\n",
       "    <tr>\n",
       "      <th>...</th>\n",
       "      <td>...</td>\n",
       "      <td>...</td>\n",
       "      <td>...</td>\n",
       "      <td>...</td>\n",
       "    </tr>\n",
       "    <tr>\n",
       "      <th>495</th>\n",
       "      <td>Female</td>\n",
       "      <td>150</td>\n",
       "      <td>153</td>\n",
       "      <td>5</td>\n",
       "    </tr>\n",
       "    <tr>\n",
       "      <th>496</th>\n",
       "      <td>Female</td>\n",
       "      <td>184</td>\n",
       "      <td>121</td>\n",
       "      <td>4</td>\n",
       "    </tr>\n",
       "    <tr>\n",
       "      <th>497</th>\n",
       "      <td>Female</td>\n",
       "      <td>141</td>\n",
       "      <td>136</td>\n",
       "      <td>5</td>\n",
       "    </tr>\n",
       "    <tr>\n",
       "      <th>498</th>\n",
       "      <td>Male</td>\n",
       "      <td>150</td>\n",
       "      <td>95</td>\n",
       "      <td>5</td>\n",
       "    </tr>\n",
       "    <tr>\n",
       "      <th>499</th>\n",
       "      <td>Male</td>\n",
       "      <td>173</td>\n",
       "      <td>131</td>\n",
       "      <td>5</td>\n",
       "    </tr>\n",
       "  </tbody>\n",
       "</table>\n",
       "<p>500 rows × 4 columns</p>\n",
       "</div>"
      ],
      "text/plain": [
       "     Gender  Height  Weight  Index\n",
       "0      Male     174      96      4\n",
       "1      Male     189      87      2\n",
       "2    Female     185     110      4\n",
       "3    Female     195     104      3\n",
       "4      Male     149      61      3\n",
       "..      ...     ...     ...    ...\n",
       "495  Female     150     153      5\n",
       "496  Female     184     121      4\n",
       "497  Female     141     136      5\n",
       "498    Male     150      95      5\n",
       "499    Male     173     131      5\n",
       "\n",
       "[500 rows x 4 columns]"
      ]
     },
     "execution_count": 2,
     "metadata": {},
     "output_type": "execute_result"
    }
   ],
   "source": [
    "data = pd.read_csv(r\"C:\\Users\\Aryan\\Desktop\\DataSets-master\\DataSets-master\\Bmi_male_female.csv\")\n",
    "data"
   ]
  },
  {
   "cell_type": "code",
   "execution_count": 3,
   "id": "6a3b04de",
   "metadata": {},
   "outputs": [],
   "source": [
    "#data.head()"
   ]
  },
  {
   "cell_type": "code",
   "execution_count": 4,
   "id": "b8a5292c",
   "metadata": {},
   "outputs": [
    {
     "data": {
      "image/png": "[encoded data removed]",
      "text/plain": [
       "<Figure size 432x288 with 1 Axes>"
      ]
     },
     "metadata": {
      "needs_background": "light"
     },
     "output_type": "display_data"
    }
   ],
   "source": [
    "#sb.countplot(x=\"Gender\",data=data)\n",
    "sb.countplot(x=\"Gender\",data=data,hue=\"Index\")\n",
    "plt.show()"
   ]
  },
  {
   "cell_type": "markdown",
   "id": "35a61f6a",
   "metadata": {},
   "source": [
    "# feature and target separation\n"
   ]
  },
  {
   "cell_type": "code",
   "execution_count": 5,
   "id": "dd7ac150",
   "metadata": {},
   "outputs": [],
   "source": [
    "feature=data.iloc[:,0:3]\n",
    "target=data.iloc[:,3]\n"
   ]
  },
  {
   "cell_type": "code",
   "execution_count": 6,
   "id": "f446f766",
   "metadata": {},
   "outputs": [
    {
     "name": "stdout",
     "output_type": "stream",
     "text": [
      "sample in feature (500, 3) and target = (500,) \n"
     ]
    }
   ],
   "source": [
    "print(\"sample in feature {} and target = {} \".format(feature.shape,target.shape))"
   ]
  },
  {
   "cell_type": "code",
   "execution_count": 7,
   "id": "3658d23b",
   "metadata": {},
   "outputs": [],
   "source": [
    "feature[\"Gender\"]=feature.Gender.map({\"Male\":0,\"Female\":1})\n"
   ]
  },
  {
   "cell_type": "code",
   "execution_count": 8,
   "id": "4423bcb5",
   "metadata": {},
   "outputs": [
    {
     "data": {
      "text/html": [
       "<div>\n",
       "<style scoped>\n",
       "    .dataframe tbody tr th:only-of-type {\n",
       "        vertical-align: middle;\n",
       "    }\n",
       "\n",
       "    .dataframe tbody tr th {\n",
       "        vertical-align: top;\n",
       "    }\n",
       "\n",
       "    .dataframe thead th {\n",
       "        text-align: right;\n",
       "    }\n",
       "</style>\n",
       "<table border=\"1\" class=\"dataframe\">\n",
       "  <thead>\n",
       "    <tr style=\"text-align: right;\">\n",
       "      <th></th>\n",
       "      <th>Gender</th>\n",
       "      <th>Height</th>\n",
       "      <th>Weight</th>\n",
       "    </tr>\n",
       "  </thead>\n",
       "  <tbody>\n",
       "    <tr>\n",
       "      <th>0</th>\n",
       "      <td>0</td>\n",
       "      <td>174</td>\n",
       "      <td>96</td>\n",
       "    </tr>\n",
       "    <tr>\n",
       "      <th>1</th>\n",
       "      <td>0</td>\n",
       "      <td>189</td>\n",
       "      <td>87</td>\n",
       "    </tr>\n",
       "    <tr>\n",
       "      <th>2</th>\n",
       "      <td>1</td>\n",
       "      <td>185</td>\n",
       "      <td>110</td>\n",
       "    </tr>\n",
       "    <tr>\n",
       "      <th>3</th>\n",
       "      <td>1</td>\n",
       "      <td>195</td>\n",
       "      <td>104</td>\n",
       "    </tr>\n",
       "    <tr>\n",
       "      <th>4</th>\n",
       "      <td>0</td>\n",
       "      <td>149</td>\n",
       "      <td>61</td>\n",
       "    </tr>\n",
       "    <tr>\n",
       "      <th>...</th>\n",
       "      <td>...</td>\n",
       "      <td>...</td>\n",
       "      <td>...</td>\n",
       "    </tr>\n",
       "    <tr>\n",
       "      <th>495</th>\n",
       "      <td>1</td>\n",
       "      <td>150</td>\n",
       "      <td>153</td>\n",
       "    </tr>\n",
       "    <tr>\n",
       "      <th>496</th>\n",
       "      <td>1</td>\n",
       "      <td>184</td>\n",
       "      <td>121</td>\n",
       "    </tr>\n",
       "    <tr>\n",
       "      <th>497</th>\n",
       "      <td>1</td>\n",
       "      <td>141</td>\n",
       "      <td>136</td>\n",
       "    </tr>\n",
       "    <tr>\n",
       "      <th>498</th>\n",
       "      <td>0</td>\n",
       "      <td>150</td>\n",
       "      <td>95</td>\n",
       "    </tr>\n",
       "    <tr>\n",
       "      <th>499</th>\n",
       "      <td>0</td>\n",
       "      <td>173</td>\n",
       "      <td>131</td>\n",
       "    </tr>\n",
       "  </tbody>\n",
       "</table>\n",
       "<p>500 rows × 3 columns</p>\n",
       "</div>"
      ],
      "text/plain": [
       "     Gender  Height  Weight\n",
       "0         0     174      96\n",
       "1         0     189      87\n",
       "2         1     185     110\n",
       "3         1     195     104\n",
       "4         0     149      61\n",
       "..      ...     ...     ...\n",
       "495       1     150     153\n",
       "496       1     184     121\n",
       "497       1     141     136\n",
       "498       0     150      95\n",
       "499       0     173     131\n",
       "\n",
       "[500 rows x 3 columns]"
      ]
     },
     "execution_count": 8,
     "metadata": {},
     "output_type": "execute_result"
    }
   ],
   "source": [
    "feature"
   ]
  },
  {
   "cell_type": "code",
   "execution_count": 9,
   "id": "aeb30e38",
   "metadata": {},
   "outputs": [
    {
     "data": {
      "text/plain": [
       "350"
      ]
     },
     "execution_count": 9,
     "metadata": {},
     "output_type": "execute_result"
    }
   ],
   "source": [
    "n=int(len(feature)*.70)\n",
    "n"
   ]
  },
  {
   "cell_type": "code",
   "execution_count": 10,
   "id": "b0bc123c",
   "metadata": {},
   "outputs": [],
   "source": [
    "xtrain=feature[:n]\n",
    "xtest=feature[n:]\n",
    "ytrain=target[:n]\n",
    "ytest=target[n:]"
   ]
  },
  {
   "cell_type": "code",
   "execution_count": 11,
   "id": "44e76d67",
   "metadata": {
    "scrolled": true
   },
   "outputs": [
    {
     "name": "stdout",
     "output_type": "stream",
     "text": [
      "type of xtrain <class 'pandas.core.frame.DataFrame'> ,xtest <class 'pandas.core.frame.DataFrame'>\n",
      "type of ytrain <class 'pandas.core.series.Series'> ,ytest <class 'pandas.core.series.Series'>\n"
     ]
    }
   ],
   "source": [
    "print(\"type of xtrain {} ,xtest {}\".format(type(xtrain),type(xtest)))\n",
    "print(\"type of ytrain {} ,ytest {}\".format(type(ytrain),type(ytest)))"
   ]
  },
  {
   "cell_type": "code",
   "execution_count": 12,
   "id": "eb1e8e2d",
   "metadata": {},
   "outputs": [],
   "source": [
    "xtrain_a=xtrain.values\n",
    "xtest_a=xtest.values\n",
    "ytrain_a=ytrain.values\n",
    "ytest_a=ytest.values"
   ]
  },
  {
   "cell_type": "code",
   "execution_count": 13,
   "id": "5446b880",
   "metadata": {},
   "outputs": [
    {
     "name": "stdout",
     "output_type": "stream",
     "text": [
      "type of xtrain_a <class 'numpy.ndarray'> ,xtest_a <class 'numpy.ndarray'>\n",
      "type of ytrain_a <class 'numpy.ndarray'> ,ytest_a <class 'numpy.ndarray'>\n"
     ]
    }
   ],
   "source": [
    "print(\"type of xtrain_a {} ,xtest_a {}\".format(type(xtrain_a),type(xtest_a)))\n",
    "print(\"type of ytrain_a {} ,ytest_a {}\".format(type(ytrain_a),type(ytest_a)))"
   ]
  },
  {
   "cell_type": "markdown",
   "id": "2f9c9447",
   "metadata": {},
   "source": [
    "# training the model \n"
   ]
  },
  {
   "cell_type": "code",
   "execution_count": 14,
   "id": "3877d835",
   "metadata": {},
   "outputs": [],
   "source": [
    "trainer=KNeighborsClassifier(n_neighbors=5)\n",
    "learner=trainer.fit(xtrain_a,ytrain_a)"
   ]
  },
  {
   "cell_type": "code",
   "execution_count": 15,
   "id": "31f5225b",
   "metadata": {},
   "outputs": [
    {
     "data": {
      "text/plain": [
       "0     Extremely Weak\n",
       "1               Weak\n",
       "2             Normal\n",
       "3         Overweight\n",
       "4            Obesity\n",
       "5    Extreme Obesity\n",
       "dtype: object"
      ]
     },
     "execution_count": 15,
     "metadata": {},
     "output_type": "execute_result"
    }
   ],
   "source": [
    "id_label = pd.Series([\"Extremely Weak\",\"Weak\",\"Normal\",\"Overweight\",\"Obesity\",\"Extreme Obesity\"])\n",
    "id_label"
   ]
  },
  {
   "cell_type": "markdown",
   "id": "5ee2208b",
   "metadata": {},
   "source": [
    "# Testing the model"
   ]
  },
  {
   "cell_type": "code",
   "execution_count": 16,
   "id": "aee6ad05",
   "metadata": {},
   "outputs": [
    {
     "name": "stdout",
     "output_type": "stream",
     "text": [
      "predicted result is 2    Normal\n",
      "dtype: object\n"
     ]
    }
   ],
   "source": [
    "r=learner.predict([[0,168,62]])\n",
    "print(\"predicted result is {}\".format(id_label[r]))"
   ]
  },
  {
   "cell_type": "markdown",
   "id": "7511ee11",
   "metadata": {},
   "source": [
    "# Accuracy\n"
   ]
  },
  {
   "cell_type": "code",
   "execution_count": 17,
   "id": "43858476",
   "metadata": {},
   "outputs": [],
   "source": [
    "ya=ytest_a\n",
    "yp=learner.predict(xtest_a)"
   ]
  },
  {
   "cell_type": "code",
   "execution_count": 18,
   "id": "05beca77",
   "metadata": {},
   "outputs": [
    {
     "data": {
      "text/html": [
       "<div>\n",
       "<style scoped>\n",
       "    .dataframe tbody tr th:only-of-type {\n",
       "        vertical-align: middle;\n",
       "    }\n",
       "\n",
       "    .dataframe tbody tr th {\n",
       "        vertical-align: top;\n",
       "    }\n",
       "\n",
       "    .dataframe thead th {\n",
       "        text-align: right;\n",
       "    }\n",
       "</style>\n",
       "<table border=\"1\" class=\"dataframe\">\n",
       "  <thead>\n",
       "    <tr style=\"text-align: right;\">\n",
       "      <th></th>\n",
       "      <th>ya</th>\n",
       "      <th>yp</th>\n",
       "    </tr>\n",
       "  </thead>\n",
       "  <tbody>\n",
       "    <tr>\n",
       "      <th>0</th>\n",
       "      <td>2</td>\n",
       "      <td>3</td>\n",
       "    </tr>\n",
       "    <tr>\n",
       "      <th>1</th>\n",
       "      <td>2</td>\n",
       "      <td>2</td>\n",
       "    </tr>\n",
       "    <tr>\n",
       "      <th>2</th>\n",
       "      <td>2</td>\n",
       "      <td>2</td>\n",
       "    </tr>\n",
       "    <tr>\n",
       "      <th>3</th>\n",
       "      <td>5</td>\n",
       "      <td>5</td>\n",
       "    </tr>\n",
       "    <tr>\n",
       "      <th>4</th>\n",
       "      <td>0</td>\n",
       "      <td>0</td>\n",
       "    </tr>\n",
       "    <tr>\n",
       "      <th>...</th>\n",
       "      <td>...</td>\n",
       "      <td>...</td>\n",
       "    </tr>\n",
       "    <tr>\n",
       "      <th>145</th>\n",
       "      <td>5</td>\n",
       "      <td>5</td>\n",
       "    </tr>\n",
       "    <tr>\n",
       "      <th>146</th>\n",
       "      <td>4</td>\n",
       "      <td>4</td>\n",
       "    </tr>\n",
       "    <tr>\n",
       "      <th>147</th>\n",
       "      <td>5</td>\n",
       "      <td>5</td>\n",
       "    </tr>\n",
       "    <tr>\n",
       "      <th>148</th>\n",
       "      <td>5</td>\n",
       "      <td>5</td>\n",
       "    </tr>\n",
       "    <tr>\n",
       "      <th>149</th>\n",
       "      <td>5</td>\n",
       "      <td>5</td>\n",
       "    </tr>\n",
       "  </tbody>\n",
       "</table>\n",
       "<p>150 rows × 2 columns</p>\n",
       "</div>"
      ],
      "text/plain": [
       "     ya  yp\n",
       "0     2   3\n",
       "1     2   2\n",
       "2     2   2\n",
       "3     5   5\n",
       "4     0   0\n",
       "..   ..  ..\n",
       "145   5   5\n",
       "146   4   4\n",
       "147   5   5\n",
       "148   5   5\n",
       "149   5   5\n",
       "\n",
       "[150 rows x 2 columns]"
      ]
     },
     "execution_count": 18,
     "metadata": {},
     "output_type": "execute_result"
    }
   ],
   "source": [
    "ya_list = list(ya)\n",
    "yp_list = list(yp)\n",
    "table=pd.DataFrame({\"ya\":ya_list,\"yp\":yp_list})\n",
    "table"
   ]
  },
  {
   "cell_type": "code",
   "execution_count": 19,
   "id": "8a027815",
   "metadata": {},
   "outputs": [],
   "source": [
    "from sklearn.metrics import accuracy_score"
   ]
  },
  {
   "cell_type": "code",
   "execution_count": 20,
   "id": "cd17c47c",
   "metadata": {},
   "outputs": [
    {
     "name": "stdout",
     "output_type": "stream",
     "text": [
      "Accuracy of the model is 91.33333333333333\n"
     ]
    }
   ],
   "source": [
    "acc = accuracy_score(ya,yp)*100\n",
    "print(\"Accuracy of the model is {}\".format(acc))"
   ]
  },
  {
   "cell_type": "markdown",
   "id": "c86597a3",
   "metadata": {},
   "source": [
    "# Finding the optimum value of K and max accuracy \n"
   ]
  },
  {
   "cell_type": "code",
   "execution_count": 21,
   "id": "9af19790",
   "metadata": {},
   "outputs": [
    {
     "data": {
      "text/plain": [
       "[1, 2, 3, 4, 5, 6, 7, 8, 9, 10, 11, 12, 13, 14, 15, 16, 17, 18, 19, 20, 21]"
      ]
     },
     "execution_count": 21,
     "metadata": {},
     "output_type": "execute_result"
    }
   ],
   "source": [
    "nn = int(np.sqrt(len(feature)))\n",
    "k = list(range(1,nn))\n",
    "k"
   ]
  },
  {
   "cell_type": "code",
   "execution_count": 26,
   "id": "85ceaadd",
   "metadata": {
    "scrolled": true
   },
   "outputs": [
    {
     "name": "stdout",
     "output_type": "stream",
     "text": [
      "acc of knn is 0.8933333333333333 at k = 1\n",
      "1\n",
      "acc of knn is 0.9066666666666666 at k = 2\n",
      "2\n",
      "acc of knn is 0.8933333333333333 at k = 3\n",
      "3\n",
      "acc of knn is 0.9333333333333333 at k = 4\n",
      "4\n",
      "acc of knn is 0.9133333333333333 at k = 5\n",
      "5\n",
      "acc of knn is 0.9133333333333333 at k = 6\n",
      "6\n",
      "acc of knn is 0.9133333333333333 at k = 7\n",
      "7\n",
      "acc of knn is 0.9066666666666666 at k = 8\n",
      "8\n",
      "acc of knn is 0.92 at k = 9\n",
      "9\n",
      "acc of knn is 0.9066666666666666 at k = 10\n",
      "10\n",
      "acc of knn is 0.9 at k = 11\n",
      "11\n",
      "acc of knn is 0.92 at k = 12\n",
      "12\n",
      "acc of knn is 0.9133333333333333 at k = 13\n",
      "13\n",
      "acc of knn is 0.92 at k = 14\n",
      "14\n",
      "acc of knn is 0.88 at k = 15\n",
      "15\n",
      "acc of knn is 0.8933333333333333 at k = 16\n",
      "16\n",
      "acc of knn is 0.8933333333333333 at k = 17\n",
      "17\n",
      "acc of knn is 0.9066666666666666 at k = 18\n",
      "18\n",
      "acc of knn is 0.86 at k = 19\n",
      "19\n",
      "acc of knn is 0.8733333333333333 at k = 20\n",
      "20\n",
      "acc of knn is 0.8533333333333334 at k = 21\n",
      "21\n"
     ]
    }
   ],
   "source": [
    "list_acc=[]\n",
    "for i in range (1,nn):\n",
    "    knnTrainer=KNeighborsClassifier(n_neighbors=i)\n",
    "    knnLearner=knnTrainer.fit(xtrain_a,ytrain_a)\n",
    "    ypkn=knnLearner.predict(xtest_a)\n",
    "    accknn=accuracy_score(ya,ypkn)\n",
    "    list_acc.append(accknn)\n",
    "    print(\"acc of knn is {} at k = {}\".format(accknn,i))\n",
    "    print(i)\n",
    "    "
   ]
  },
  {
   "cell_type": "code",
   "execution_count": 27,
   "id": "38f479ca",
   "metadata": {},
   "outputs": [
    {
     "name": "stdout",
     "output_type": "stream",
     "text": [
      "max accuracy is 0.9333333333333333 at k=3\n"
     ]
    }
   ],
   "source": [
    "list_accArray = np.array(list_acc)\n",
    "print(\"max accuracy is {} at k={}\".format(list_accArray[list_accArray.argmax()],list_accArray.argmax()))"
   ]
  },
  {
   "cell_type": "code",
   "execution_count": 28,
   "id": "02314f75",
   "metadata": {},
   "outputs": [
    {
     "data": {
      "image/png": "[encoded data removed]",
      "text/plain": [
       "<Figure size 432x288 with 1 Axes>"
      ]
     },
     "metadata": {
      "needs_background": "light"
     },
     "output_type": "display_data"
    }
   ],
   "source": [
    "plt.plot(k,list_acc,'b*')\n",
    "plt.plot(k,list_acc,'r')\n",
    "plt.xlabel(\"k...>\")\n",
    "plt.xlabel(\"Accuracy\")\n",
    "plt.show()"
   ]
  },
  {
   "cell_type": "markdown",
   "id": "3b64a96a",
   "metadata": {},
   "source": [
    "# END"
   ]
  },
  {
   "cell_type": "code",
   "execution_count": null,
   "id": "69865afb",
   "metadata": {},
   "outputs": [],
   "source": []
  }
 ],
 "metadata": {
  "kernelspec": {
   "display_name": "Python 3",
   "language": "python",
   "name": "python3"
  },
  "language_info": {
   "codemirror_mode": {
    "name": "ipython",
    "version": 3
   },
   "file_extension": ".py",
   "mimetype": "text/x-python",
   "name": "python",
   "nbconvert_exporter": "python",
   "pygments_lexer": "ipython3",
   "version": "3.8.8"
  }
 },
 "nbformat": 4,
 "nbformat_minor": 5
}
